{
  "nbformat": 4,
  "nbformat_minor": 0,
  "metadata": {
    "colab": {
      "provenance": [],
      "authorship_tag": "ABX9TyNy6DxhLRc661BBhvU+Yrwp",
      "include_colab_link": true
    },
    "kernelspec": {
      "name": "python3",
      "display_name": "Python 3"
    },
    "language_info": {
      "name": "python"
    }
  },
  "cells": [
    {
      "cell_type": "markdown",
      "metadata": {
        "id": "view-in-github",
        "colab_type": "text"
      },
      "source": [
        "<a href=\"https://colab.research.google.com/github/dartangel2807/actividades/blob/main/actividad02.ipynb\" target=\"_parent\"><img src=\"https://colab.research.google.com/assets/colab-badge.svg\" alt=\"Open In Colab\"/></a>"
      ]
    },
    {
      "cell_type": "markdown",
      "source": [
        "#NOTA: EJERCICIOS ( 1,2,3 y 4 ) PARA SER RESUELTOS USANDO EXCLUSIVAMENTE CONDICIONES SIMPLES"
      ],
      "metadata": {
        "id": "ccytj09Qx5mY"
      }
    },
    {
      "cell_type": "markdown",
      "source": [
        "**1.- Programa en Python que lea 2 números enteros, usar una condición y analizar los dos números y desplegar cual de los números es el mayor.**"
      ],
      "metadata": {
        "id": "nPmAH8VyqEGF"
      }
    },
    {
      "cell_type": "code",
      "execution_count": 49,
      "metadata": {
        "colab": {
          "base_uri": "https://localhost:8080/",
          "height": 0
        },
        "id": "FHO2u8lfpoO0",
        "outputId": "3efd8368-3923-45a5-f4ab-d826d57339de"
      },
      "outputs": [
        {
          "output_type": "stream",
          "name": "stdout",
          "text": [
            "Dame el primer número: 7\n",
            "Dame el segundo número: 9\n",
            "El mayor es el número dos.\n"
          ]
        }
      ],
      "source": [
        "num1 = int(input(\"Dame el primer número: \"))\n",
        "num2 = int(input(\"Dame el segundo número: \"))\n",
        "if num1 > num2:\n",
        "    print(\"El mayor es el número uno.\")\n",
        "if num2 > num1:\n",
        "    print(\"El mayor es el número dos.\")"
      ]
    },
    {
      "cell_type": "markdown",
      "source": [
        "**2.- Programa en Python Algoritmo que lea 4 calificaciones de un alumno, calcular y desplegar el promedio acompañado de la leyenda \"APROBADO\" o \"REPROBADO\"**"
      ],
      "metadata": {
        "id": "666ggg74sP-a"
      }
    },
    {
      "cell_type": "code",
      "source": [
        "calif1 = int(input(\"Dame la primera calificacion: \"))\n",
        "calif2 = int(input(\"Dame la segunda calificacion: \"))\n",
        "calif3 = int(input(\"Dame la tercera calificacion: \"))\n",
        "calif4 = int(input(\"Dame la cuarta calificacion: \"))\n",
        "prom = (calif1+calif2+calif3+calif4)/4\n",
        "print(\"El promedio es: \"+str(prom))\n",
        "if prom < 60:\n",
        "  print(\"Reprobado.\")\n",
        "if prom >= 60:\n",
        "  print(\"Aprobado.\")"
      ],
      "metadata": {
        "colab": {
          "base_uri": "https://localhost:8080/",
          "height": 0
        },
        "id": "22MLHXcQsTjk",
        "outputId": "6a3af2b6-40f4-43f7-9b9f-2426a555ca68"
      },
      "execution_count": 50,
      "outputs": [
        {
          "output_type": "stream",
          "name": "stdout",
          "text": [
            "Dame la primera calificacion: 59\n",
            "Dame la segunda calificacion: 59\n",
            "Dame la tercera calificacion: 59\n",
            "Dame la cuarta calificacion: 59\n",
            "El promedio es: 59.0\n",
            "Reprobado.\n"
          ]
        }
      ]
    },
    {
      "cell_type": "markdown",
      "source": [
        "**3.- Programa en Python Algoritmo que a través de opciones (1.- HOMBRE 2.- MUJER ) preguntar al usuario cual es su sexo y desplegar la leyenda “HOMBRE ”, “MUJER”**"
      ],
      "metadata": {
        "id": "6SzfnXCauD3_"
      }
    },
    {
      "cell_type": "code",
      "source": [
        "print(\"Seleccione su sexo:\")\n",
        "print(\"1. Hombre\")\n",
        "print(\"2. Mujer\")\n",
        "opcion = int(input(\"\"))\n",
        "if opcion == 1:\n",
        "  print(\"HOMBRE\")\n",
        "if opcion == 2:\n",
        "  print(\"MUJER\")"
      ],
      "metadata": {
        "colab": {
          "base_uri": "https://localhost:8080/",
          "height": 0
        },
        "id": "XxdRfWY8uFhJ",
        "outputId": "6c2c69be-296a-44b4-839e-1961636d1785"
      },
      "execution_count": 52,
      "outputs": [
        {
          "output_type": "stream",
          "name": "stdout",
          "text": [
            "Seleccione su sexo:\n",
            "1. Hombre\n",
            "2. Mujer\n",
            "2\n",
            "MUJER\n"
          ]
        }
      ]
    },
    {
      "cell_type": "markdown",
      "source": [
        "**4.- Programa en Python que lea un número entero, y desplegar si el número es “PAR” o “IMPAR”**"
      ],
      "metadata": {
        "id": "47s4JqNAwJ0h"
      }
    },
    {
      "cell_type": "code",
      "source": [
        "print(\"Detector de numero par o impar\")\n",
        "num = int(input(\"Dame un numero: \"))\n",
        "if num %2 == 0:\n",
        "  print(\"PAR\")\n",
        "if num %2 != 0:\n",
        "  print(\"IMPAR\")"
      ],
      "metadata": {
        "colab": {
          "base_uri": "https://localhost:8080/",
          "height": 0
        },
        "id": "3ov_7wi_wMWu",
        "outputId": "31cb1955-cee2-43e6-d364-88e3fe6ae02d"
      },
      "execution_count": 53,
      "outputs": [
        {
          "output_type": "stream",
          "name": "stdout",
          "text": [
            "Detector de numero par o impar\n",
            "Dame un numero: 3\n",
            "IMPAR\n"
          ]
        }
      ]
    },
    {
      "cell_type": "markdown",
      "source": [
        "#NOTA: EJERCICIOS (5,6,7 y 8) PARA SER RESUELTOS USANDO CONDICIÓN COMPUESTA"
      ],
      "metadata": {
        "id": "dYPupmATyDp8"
      }
    },
    {
      "cell_type": "markdown",
      "source": [
        "**5.- Programa en Python que lea 2 números enteros, usar una condición y analizar los dos números y desplegar cual de los números es el mayor.**"
      ],
      "metadata": {
        "id": "kyMfQb98yKXD"
      }
    },
    {
      "cell_type": "code",
      "source": [
        "num1 = int(input(\"Dame el primer numero: \"))\n",
        "num2 = int(input(\"Dame el segundo numero: \"))\n",
        "if num1 > num2:\n",
        "  print(\"El mayor es el primero.\")\n",
        "else:\n",
        "  print(\"El mayor es el segundo.\")"
      ],
      "metadata": {
        "colab": {
          "base_uri": "https://localhost:8080/",
          "height": 0
        },
        "id": "N6hcIIpQyVWx",
        "outputId": "53872810-34c4-430d-b831-faca69e268b7"
      },
      "execution_count": 57,
      "outputs": [
        {
          "output_type": "stream",
          "name": "stdout",
          "text": [
            "Dame el primer numero: 7\n",
            "Dame el segundo numero: 4\n",
            "El mayor es el primero.\n"
          ]
        }
      ]
    },
    {
      "cell_type": "markdown",
      "source": [
        "**6.- Programa en Python que lea 4 calificaciones de un alumno, calcular y desplegar el promedio acompañado de la leyenda APROBADO o REPROBADO**"
      ],
      "metadata": {
        "id": "r_Emr1AAyzmR"
      }
    },
    {
      "cell_type": "code",
      "source": [
        "calif1 = int(input(\"Dame la primera calificacion: \"))\n",
        "calif2 = int(input(\"Dame la segunda calificacion: \"))\n",
        "calif3 = int(input(\"Dame la tercera calificacion: \"))\n",
        "calif4 = int(input(\"Dame la cuarta calificacion: \"))\n",
        "prom = (calif1+calif2+calif3+calif4)/4\n",
        "if prom >= 60:\n",
        "  print(\"APROBADO\")\n",
        "else:\n",
        "  print(\"REPROBADO\")"
      ],
      "metadata": {
        "colab": {
          "base_uri": "https://localhost:8080/",
          "height": 0
        },
        "id": "kunR159Py1bw",
        "outputId": "d0beddea-75dd-4fa7-83c5-75f84832aae1"
      },
      "execution_count": 56,
      "outputs": [
        {
          "output_type": "stream",
          "name": "stdout",
          "text": [
            "Dame la primera calificacion: 60\n",
            "Dame la segunda calificacion: 60\n",
            "Dame la tercera calificacion: 60\n",
            "Dame la cuarta calificacion: 60\n",
            "APROBADO\n"
          ]
        }
      ]
    },
    {
      "cell_type": "markdown",
      "source": [
        "**7.- Programa en Python que a través de opciones (1.- HOMBRE 2.- MUJER ) preguntar al usuario cual es su sexo y desplegar la leyenda “HOMBRE ”, “MUJER”**"
      ],
      "metadata": {
        "id": "zfwqJhig0CP3"
      }
    },
    {
      "cell_type": "code",
      "source": [
        "print(\"Seleccione su sexo:\")\n",
        "print(\"1. Hombre\")\n",
        "print(\"2. Mujer\")\n",
        "opcion = int(input(\"\"))\n",
        "if opcion == 1:\n",
        "  print(\"HOMBRE\")\n",
        "else:\n",
        "  print(\"MUJER\")"
      ],
      "metadata": {
        "colab": {
          "base_uri": "https://localhost:8080/",
          "height": 0
        },
        "id": "o67nLrj40FRp",
        "outputId": "6a71af53-fa96-438a-b8e8-3ccb39ab8bb6"
      },
      "execution_count": 55,
      "outputs": [
        {
          "output_type": "stream",
          "name": "stdout",
          "text": [
            "Seleccione su sexo:\n",
            "1. Hombre\n",
            "2. Mujer\n",
            "1\n",
            "HOMBRE\n"
          ]
        }
      ]
    },
    {
      "cell_type": "markdown",
      "source": [
        "**8.- Programa en Python que lea un número entero, y desplegar si el número es “PAR” o “IMPAR” NOTA: EJERCICIOS PARA SER RESUELTOS USANDO EXCLUSIVAMENTE CONDICIONES COMPUESTO**"
      ],
      "metadata": {
        "id": "GIs6z1gd0c8g"
      }
    },
    {
      "cell_type": "code",
      "source": [
        "print(\"Detector de numero par o impar\")\n",
        "num = int(input(\"Dame un numero: \"))\n",
        "if num %2 == 0:\n",
        "  print(\"PAR\")\n",
        "else:\n",
        "  print(\"IMPAR\")"
      ],
      "metadata": {
        "colab": {
          "base_uri": "https://localhost:8080/",
          "height": 0
        },
        "id": "RZhn74w20hf4",
        "outputId": "bc93ba7b-4590-4dff-83b3-88a3efef7b4a"
      },
      "execution_count": 54,
      "outputs": [
        {
          "output_type": "stream",
          "name": "stdout",
          "text": [
            "Detector de numero par o impar\n",
            "Dame un numero: 2\n",
            "PAR\n"
          ]
        }
      ]
    }
  ]
}