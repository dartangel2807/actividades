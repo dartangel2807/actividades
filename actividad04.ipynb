{
  "nbformat": 4,
  "nbformat_minor": 0,
  "metadata": {
    "colab": {
      "provenance": [],
      "authorship_tag": "ABX9TyOrpSFotvVwcwiNw/x5Skej",
      "include_colab_link": true
    },
    "kernelspec": {
      "name": "python3",
      "display_name": "Python 3"
    },
    "language_info": {
      "name": "python"
    }
  },
  "cells": [
    {
      "cell_type": "markdown",
      "metadata": {
        "id": "view-in-github",
        "colab_type": "text"
      },
      "source": [
        "<a href=\"https://colab.research.google.com/github/dartangel2807/actividades/blob/main/actividad04.ipynb\" target=\"_parent\"><img src=\"https://colab.research.google.com/assets/colab-badge.svg\" alt=\"Open In Colab\"/></a>"
      ]
    },
    {
      "cell_type": "markdown",
      "source": [
        "#Try except"
      ],
      "metadata": {
        "id": "ZyDgTz0cObDw"
      }
    },
    {
      "cell_type": "markdown",
      "source": [
        "1.- Programa en python   que lea 3 calificaciones calcule el promedio del alumno y desplegar:"
      ],
      "metadata": {
        "id": "ze_aW6_vyq4d"
      }
    },
    {
      "cell_type": "code",
      "execution_count": null,
      "metadata": {
        "id": "YbchZXGWOYi0",
        "colab": {
          "base_uri": "https://localhost:8080/"
        },
        "outputId": "df0d4944-2838-459a-ec75-9cd71f61f038"
      },
      "outputs": [
        {
          "output_type": "stream",
          "name": "stdout",
          "text": [
            "Dame el promedio del alumno: 67\n",
            "Suficiente.\n"
          ]
        }
      ],
      "source": [
        "try:\n",
        "  prom = int(input(\"Dame el promedio del alumno: \"))\n",
        "  if prom < 30:\n",
        "    print (\"Repetir.\")\n",
        "  elif prom < 60:\n",
        "   print (\"Extraordinario.\")\n",
        "  elif prom < 70:\n",
        "    print (\"Suficiente.\")\n",
        "  elif prom < 80:\n",
        "    print (\"Regular.\")\n",
        "  elif prom < 90:\n",
        "    print(\"Muy bien.\")\n",
        "  elif prom >= 98 and prom <= 100:\n",
        "    print(\"Excelente.\")\n",
        "except TypeError:\n",
        "  print(\"Unicamente numeros enteros.\")\n",
        "except ValueError:\n",
        "  print(\"Recuerda que unicamente debes ingresar numeros.\")"
      ]
    },
    {
      "cell_type": "markdown",
      "source": [
        "2.- Programa en Python que sirva para calcular el salario semanal de un trabajador donde se obtiene como dato de entrada las horas semanales trabajadas, el salario por hora.\n",
        "\n",
        "El programa deberá calcular el salario normal, salario extra y salario total, considerando lo siguiente:\n",
        "\n",
        "Jornada Normal de 40 horas.\n",
        "El salario normal se considera las horas trabajadas menores o igual a la jornada normal\n",
        "Salario extra se considera las horas trabajadas mayores a la jornada normal y se pagan dobles las primeras 9 y triples a partir de la décima hora extra\n",
        "\n",
        "\n",
        "Nota: Desplegar todos los datos (Salario x hora, Horas Trabajadas, Salario normal, Salario extra y Salario Total)"
      ],
      "metadata": {
        "id": "2dL7XRJC8NEL"
      }
    },
    {
      "cell_type": "code",
      "source": [
        "try:\n",
        "  hT = int(input(\"Cuantas horas trabajaste? \"))\n",
        "  sH = int(input(\"A cuanto pagan la hora? \"))\n",
        "  jN = 40\n",
        "  sN = jN * sH\n",
        "  if hT > 40 and hT <= 49:\n",
        "    sE = (hT - jN)*sH*2\n",
        "  if hT > 49:\n",
        "    sE = (9*sH*2)+(hT - 49)*sH*3\n",
        "  sT = sN + sE\n",
        "  print(\"El salario normal es de: \"+str(sN))\n",
        "  print(\"El salario extra es de: \"+str(sE))\n",
        "  print(\"El salario total es de: \"+str(sT))\n",
        "except ValueError:\n",
        "  print(\"Recuerda que unicamente debes ingresar numeros.\")"
      ],
      "metadata": {
        "colab": {
          "base_uri": "https://localhost:8080/"
        },
        "id": "yOjpna9h8OSj",
        "outputId": "40fadc61-d34c-49f1-afba-2b59fadc8807"
      },
      "execution_count": null,
      "outputs": [
        {
          "output_type": "stream",
          "name": "stdout",
          "text": [
            "Cuantas horas trabajaste? 67\n",
            "A cuanto pagan la hora? 10\n",
            "El salario normal es de: 400\n",
            "El salario extra es de: 720\n",
            "El salario total es de: 1120\n"
          ]
        }
      ]
    },
    {
      "cell_type": "markdown",
      "source": [
        "3.- Programa en Python que sirva para calcular el Total a pagar por consumo de agua, donde el dato de entrada son los M3 de agua consumidos, Tomar en cuenta que se cobra escalonada de la Siguiente manera:\n",
        "\n",
        "Rango1: 0 al 4 M3 $50 x facturación sin importar cuánto consumió en este rango\n",
        "\n",
        "Rango2: 5 a 15 M3 $8.00 x M3\n",
        "\n",
        "Rango3: 16 a 50 M3 $10.00 x M3\n",
        "\n",
        "Rango4: 51 M3 en adelante $11.00 x M3\n",
        "\n",
        "Nota: Desplegar SubTotal, Iva(16%), y Total a pagar."
      ],
      "metadata": {
        "id": "H8Hqxf2T8go7"
      }
    },
    {
      "cell_type": "code",
      "source": [
        "try:\n",
        "  m3 = int(input(\"Cuantos metros cubicos de agua consumiste? \"))\n",
        "  if m3 > 0 and m3 <= 4:\n",
        "    subtotal1 = 50\n",
        "    iva = subtotal1 * 0.16\n",
        "    total = subtotal1 + iva\n",
        "    print(\"El subtotal sera de: $\"+str(subtotal1))\n",
        "    print(\"El aumento por iva sera de: $\"+str(iva))\n",
        "    print(\"El total por consumo es de: $\"+str(total))\n",
        "  if m3 > 4 and m3 <= 15:\n",
        "    subtotal2 = (m3 - 4)*8+50\n",
        "    iva = subtotal2 * 0.16\n",
        "    total = subtotal2 + iva\n",
        "    print(\"El subtotal sera de: $\"+str(subtotal2))\n",
        "    print(\"El aumento por iva sera de: $\"+str(iva))\n",
        "    print(\"El total por consumo es de: $\"+str(total))\n",
        "  if m3 > 15 and m3 <= 50:\n",
        "    subtotal3 = (m3-15)*10+106\n",
        "    iva = subtotal3 * 0.16\n",
        "    total = subtotal3 + iva\n",
        "    print(\"El subtotal sera de: $\"+str(subtotal3))\n",
        "    print(\"El aumento por iva sera de: $\"+str(iva))\n",
        "    print(\"El total por consumo es de: $\"+str(total))\n",
        "  if m3 > 50:\n",
        "    subtotal4 = (m3 - 50)*11+456\n",
        "    iva = subtotal4 * 0.16\n",
        "    total = subtotal4 + iva\n",
        "    print(\"El subtotal sera de: $\"+str(subtotal4))\n",
        "    print(\"El aumento por iva sera de: $\"+str(iva))\n",
        "    print(\"El total por consumo es de: $\"+str(total))\n",
        "except ValueError:\n",
        "  print(\"Recuerda que unicamente debes ingresar numeros.\")"
      ],
      "metadata": {
        "colab": {
          "base_uri": "https://localhost:8080/"
        },
        "id": "XR7XbxMnMq3K",
        "outputId": "21f9bc47-3bb0-4e33-d681-3f97df25ea59"
      },
      "execution_count": null,
      "outputs": [
        {
          "output_type": "stream",
          "name": "stdout",
          "text": [
            "Cuantos metros cubicos de agua consumiste? hola\n",
            "Recuerda que unicamente debes ingresar numeros.\n"
          ]
        }
      ]
    },
    {
      "cell_type": "markdown",
      "source": [
        "4- En la materia de Metodología de la programación se aplican 5 exámenes, calcular el promedio final de la materia donde la calificación menor de los exámenes se anula y el promedio se calcula en base a 4 exámenes.\n",
        "\n",
        "Desplegar el promedio final. y cual es la mas baja que se elimino."
      ],
      "metadata": {
        "id": "sojcS53cRAD8"
      }
    },
    {
      "cell_type": "code",
      "source": [
        "try:\n",
        "  cal1 = float(input(\"Ingrese la calificación del examen 1: \"))\n",
        "  cal2 = float(input(\"Ingrese la calificación del examen 2: \"))\n",
        "  cal3 = float(input(\"Ingrese la calificación del examen 3: \"))\n",
        "  cal4 = float(input(\"Ingrese la calificación del examen 4: \"))\n",
        "  cal5 = float(input(\"Ingrese la calificación del examen 5: \"))\n",
        "\n",
        "\n",
        "  cals = [cal1, cal2, cal3, cal4, cal5]\n",
        "\n",
        "  calm = min(cals)\n",
        "\n",
        "  promf = ((cal1 + cal2 + cal3 + cal4 +cal5) - calm) / 4\n",
        "\n",
        "  print(\"\\nEl promedio final de la materia es:\", promf)\n",
        "except ValueError:\n",
        "  print(\"Dame solo cifras numericas!\")"
      ],
      "metadata": {
        "colab": {
          "base_uri": "https://localhost:8080/"
        },
        "id": "UNNTVIJARC0U",
        "outputId": "988d21bc-93dd-4401-d37b-585470a8434a"
      },
      "execution_count": null,
      "outputs": [
        {
          "output_type": "stream",
          "name": "stdout",
          "text": [
            "Ingrese la calificación del examen 1: 27\n",
            "Ingrese la calificación del examen 2: 98\n",
            "Ingrese la calificación del examen 3: 96\n",
            "Ingrese la calificación del examen 4: 76\n",
            "Ingrese la calificación del examen 5: 100\n",
            "\n",
            "El promedio final de la materia es: 92.5\n"
          ]
        }
      ]
    },
    {
      "cell_type": "markdown",
      "source": [
        "5.- Programa en Python que sirva para el juego del CHINCHAMPU (Piedra, Papel, Tijera) para 1 jugador y la computadora"
      ],
      "metadata": {
        "id": "VakgbKiIRDHG"
      }
    },
    {
      "cell_type": "code",
      "source": [
        "import random\n",
        "print(\"Bienvenido al juego de piedra papel o tijeras\")\n",
        "try:\n",
        "  opcion=int(input(\"Por favor elige una de estas opciones: 1. Piedra, 2. Papel y 3. Tijeras: \"))\n",
        "  opcion_pc = random.randint(1,3)\n",
        "\n",
        "  if opcion == 1:\n",
        "    if opcion_pc == 1:\n",
        "      print(\"Has elegido piedra.\")\n",
        "      print(\"La PC ha elegido piedra.\")\n",
        "      print(\"EMPATE.\")\n",
        "  if opcion == 1:\n",
        "    if opcion_pc == 2:\n",
        "      print(\"Has elegido piedra.\")\n",
        "      print(\"La PC ha elegido papel\")\n",
        "      print(\"Has perdido.\")\n",
        "  if opcion == 1:\n",
        "    if opcion_pc == 3:\n",
        "      print(\"Has elegido piedra.\")\n",
        "      print(\"La PC ha elegido tijeras.\")\n",
        "      print(\"Has ganado.\")\n",
        "\n",
        "  if opcion == 2:\n",
        "    if opcion_pc == 1:\n",
        "      print(\"Has elegido papel.\")\n",
        "      print(\"La PC ha elegido piedra.\")\n",
        "      print(\"Has ganado.\")\n",
        "  if opcion == 2:\n",
        "    if opcion_pc == 2:\n",
        "      print(\"Has elegido papel.\")\n",
        "      print(\"La PC ha elegido papel\")\n",
        "      print(\"EMPATE.\")\n",
        "  if opcion == 2:\n",
        "    if opcion_pc == 3:\n",
        "      print(\"Has elegido papel.\")\n",
        "      print(\"La PC ha elegido tijeras.\")\n",
        "      print(\"Has perdido.\")\n",
        "\n",
        "  if opcion == 3:\n",
        "    if opcion_pc == 1:\n",
        "      print(\"Has elegido tijeras.\")\n",
        "      print(\"La PC ha elegido piedra.\")\n",
        "      print(\"Has perdido.\")\n",
        "  if opcion == 3:\n",
        "    if opcion_pc == 2:\n",
        "      print(\"Has elegido tijeras.\")\n",
        "      print(\"La PC ha elegido papel\")\n",
        "      print(\"Has ganado.\")\n",
        "  if opcion == 3:\n",
        "    if opcion_pc == 3:\n",
        "      print(\"Has elegido tijeras.\")\n",
        "      print(\"La PC ha elegido tijeras.\")\n",
        "      print(\"EMPATE.\")\n",
        "except ValueError:\n",
        "  print(\"ERROR: Solamente coloca numeros!\")"
      ],
      "metadata": {
        "colab": {
          "base_uri": "https://localhost:8080/"
        },
        "id": "VQU00Bd9RGMi",
        "outputId": "ed5983b9-5da0-449f-e97e-1d4944e189e5"
      },
      "execution_count": null,
      "outputs": [
        {
          "output_type": "stream",
          "name": "stdout",
          "text": [
            "Bienvenido al juego de piedra papel o tijeras\n",
            "Por favor elige una de estas opciones: 1. Piedra, 2. Papel y 3. Tijeras: 2\n",
            "Has elegido papel.\n",
            "La PC ha elegido piedra.\n",
            "Has ganado.\n"
          ]
        }
      ]
    },
    {
      "cell_type": "markdown",
      "source": [
        "6.- Programa en Python que lea 4 números enteros desplegar cuales el menor, cual es mayor"
      ],
      "metadata": {
        "id": "ptiBftp_T7Aa"
      }
    },
    {
      "cell_type": "code",
      "source": [
        "try:\n",
        "  num1 = int(input(\"Dame el primer numero: \"))\n",
        "  num2 = int(input(\"Dame el segundo numero: \"))\n",
        "  num3 = int(input(\"Dame el tercer numero: \"))\n",
        "  num4 = int(input(\"Dame el cuarto numero: \"))\n",
        "  if num1 > num2:\n",
        "    if num1 > num3:\n",
        "      if num1 > num4:\n",
        "        print(\"El mayor es el primer numero.\")\n",
        "  if num2 > num1:\n",
        "    if num2 > num3:\n",
        "      if num2 > num4:\n",
        "        print(\"El mayor es el segundo numero.\")\n",
        "  if num3 > num1:\n",
        "    if num3 > num2:\n",
        "      if num3 > num4:\n",
        "        print(\"El mayor es el tercer numero.\")\n",
        "  if num4 > num1:\n",
        "    if num4 > num2:\n",
        "      if num4 > num3:\n",
        "        print(\"El mayor es el cuarto numero.\")\n",
        "except ValueError:\n",
        "  print(\"Coloca solamente numeros!!\")"
      ],
      "metadata": {
        "colab": {
          "base_uri": "https://localhost:8080/"
        },
        "id": "W6w-R61fT9yc",
        "outputId": "21832133-3cb1-4ae8-a2ce-d7b54ac9265a"
      },
      "execution_count": null,
      "outputs": [
        {
          "output_type": "stream",
          "name": "stdout",
          "text": [
            "Dame el primer numero: 56\n",
            "Dame el segundo numero: 4\n",
            "Dame el tercer numero: 9\n",
            "Dame el cuarto numero: 3\n",
            "El mayor es el primer numero.\n"
          ]
        }
      ]
    },
    {
      "cell_type": "markdown",
      "source": [
        "7.- Programa en Python que sirva para calcular el área de un triangulo, los datos de entrada deben ser forzosamente de tipo real"
      ],
      "metadata": {
        "id": "lKRGMLoFVzeJ"
      }
    },
    {
      "cell_type": "code",
      "source": [
        "try:\n",
        "  b = float(input(\"Dame la base del triangulo: \"))\n",
        "  h = float(input(\"Ahora dame la altura del triangulo: \"))\n",
        "  area = (b * h)/2\n",
        "  print(\"El resultado del area es: \"+str(area))\n",
        "except TypeError:\n",
        "  print(\"Debe ser unicamente de tipo real.\")"
      ],
      "metadata": {
        "colab": {
          "base_uri": "https://localhost:8080/"
        },
        "id": "riVHGMm7V0XC",
        "outputId": "903a5982-f642-4a8b-fa4b-c889c3844a3f"
      },
      "execution_count": null,
      "outputs": [
        {
          "output_type": "stream",
          "name": "stdout",
          "text": [
            "Dame la base del triangulo: 78.4\n",
            "Ahora dame la altura del triangulo: 102.2\n",
            "El resultado del area es: 4006.2400000000002\n"
          ]
        }
      ]
    },
    {
      "cell_type": "markdown",
      "source": [
        "8.- Programa en Python que sirva para calcular el área de un circulo"
      ],
      "metadata": {
        "id": "JgaIj8k0hCam"
      }
    },
    {
      "cell_type": "code",
      "source": [
        "pi = 3.1416\n",
        "try:\n",
        "  radio = float(input(\"Dame el valor del radio: \"))\n",
        "  area = (radio * radio)*pi\n",
        "  print(\"El resultado del area del circulo es: \"+str(area))\n",
        "except ValueError:\n",
        "  print(\"Solamente coloca numeros.\")"
      ],
      "metadata": {
        "colab": {
          "base_uri": "https://localhost:8080/"
        },
        "id": "Qa6-wRS2hD65",
        "outputId": "df30973e-d044-4af5-c22c-79b8aeba76bd"
      },
      "execution_count": null,
      "outputs": [
        {
          "output_type": "stream",
          "name": "stdout",
          "text": [
            "Dame el valor del radio: 6\n",
            "El resultado del area del circulo es: 113.0976\n"
          ]
        }
      ]
    }
  ]
}