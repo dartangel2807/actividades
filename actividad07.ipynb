{
  "nbformat": 4,
  "nbformat_minor": 0,
  "metadata": {
    "colab": {
      "provenance": [],
      "authorship_tag": "ABX9TyOBDGtNHTVzjGTQAjar0v07",
      "include_colab_link": true
    },
    "kernelspec": {
      "name": "python3",
      "display_name": "Python 3"
    },
    "language_info": {
      "name": "python"
    }
  },
  "cells": [
    {
      "cell_type": "markdown",
      "metadata": {
        "id": "view-in-github",
        "colab_type": "text"
      },
      "source": [
        "<a href=\"https://colab.research.google.com/github/dartangel2807/actividades/blob/main/actividad07.ipynb\" target=\"_parent\"><img src=\"https://colab.research.google.com/assets/colab-badge.svg\" alt=\"Open In Colab\"/></a>"
      ]
    },
    {
      "cell_type": "markdown",
      "source": [
        "1.- Función que utilice una lista con los nombres de tus mascotas, o artistas favoritos, (minimo 5, maximo 10) imprimir las cadenas y la cantidad de caracteres de cada cadena."
      ],
      "metadata": {
        "id": "YfpZfyBdTAlM"
      }
    },
    {
      "cell_type": "code",
      "execution_count": null,
      "metadata": {
        "id": "nQxKNHr0SlSo"
      },
      "outputs": [],
      "source": [
        "def lista():\n",
        "  lista = [\"Dartañan\",\"Max\",\"Penny\",\"Gustavo Cerati\",\"Pablo Und Destruktion\"]\n",
        "  i=0\n",
        "  for cadena in lista:\n",
        "    tam=len(cadena)\n",
        "    print(f\"[{i}] -----> {cadena} {tam} caracteres.\")\n",
        "    i+=1"
      ]
    },
    {
      "cell_type": "code",
      "source": [
        "lista()"
      ],
      "metadata": {
        "colab": {
          "base_uri": "https://localhost:8080/"
        },
        "id": "PlcMHxI1VTUR",
        "outputId": "c4fe6699-5f2e-43ea-8ff2-03d5bdfa31eb"
      },
      "execution_count": null,
      "outputs": [
        {
          "output_type": "stream",
          "name": "stdout",
          "text": [
            "[0] -----> Dartañan 8 caracteres.\n",
            "[1] -----> Max 3 caracteres.\n",
            "[2] -----> Penny 5 caracteres.\n",
            "[3] -----> Gustavo Cerati 14 caracteres.\n",
            "[4] -----> Pablo Und Destruktion 21 caracteres.\n"
          ]
        }
      ]
    },
    {
      "cell_type": "markdown",
      "source": [
        "2.- Programa que utilice 2 funciones,\n",
        "\n",
        "Función que genere y regrese una lista con 10 números aleatorios entre el 30 y 50 (no repetidos).\n",
        "Función que reciba una lista , Imprimir la lista (Indice y Valor )\n",
        "\n",
        "\n",
        " Mandar llamar la función e imprimir toda la lista."
      ],
      "metadata": {
        "id": "NyXf70gQWZbf"
      }
    },
    {
      "cell_type": "code",
      "source": [
        "import random\n",
        "def generarListaAleatoria():\n",
        "    nums = random.sample(range(30, 51), 10)\n",
        "    return nums\n",
        "\n",
        "def printLista(lista):\n",
        "    for indice, valor in enumerate(lista):\n",
        "        print(f'Índice {indice}: Valor {valor}')\n",
        "\n",
        "listaAleatorios = generarListaAleatoria()"
      ],
      "metadata": {
        "id": "rnD_AxVPWdZG"
      },
      "execution_count": null,
      "outputs": []
    },
    {
      "cell_type": "code",
      "source": [
        "printLista(listaAleatorios)"
      ],
      "metadata": {
        "colab": {
          "base_uri": "https://localhost:8080/"
        },
        "id": "6PMpXZTaiQ43",
        "outputId": "59376533-df26-40f4-d87d-9ade8f5a1b3d"
      },
      "execution_count": null,
      "outputs": [
        {
          "output_type": "stream",
          "name": "stdout",
          "text": [
            "Índice 0: Valor 40\n",
            "Índice 1: Valor 45\n",
            "Índice 2: Valor 41\n",
            "Índice 3: Valor 31\n",
            "Índice 4: Valor 49\n",
            "Índice 5: Valor 30\n",
            "Índice 6: Valor 48\n",
            "Índice 7: Valor 43\n",
            "Índice 8: Valor 34\n",
            "Índice 9: Valor 50\n"
          ]
        }
      ]
    },
    {
      "cell_type": "markdown",
      "source": [
        "3.- Escribe una función que reciba dos listas de números del mismo tamaño y calcule la suma de los elementos correspondientes de cada lista. (regresar una nueva lista) . Luego, muestra una lista con los resultados de cada suma. Nota: si las listas no son del mismo tamaño mandar msge y utilizar el tamaño de la lista mas pequeña)"
      ],
      "metadata": {
        "id": "Nb1Rh_m7io65"
      }
    },
    {
      "cell_type": "code",
      "source": [
        "try:\n",
        "  print(\"Por favor, ingrese 5 cifras para la lista1:\")\n",
        "  lista1 = []\n",
        "  for i in range(5):\n",
        "      cifra = int(input(f\"Ingrese la cifra {i+1}: \"))\n",
        "      lista1.append(cifra)\n",
        "\n",
        "      print(\"La lista1 es:\", lista1)\n",
        "\n",
        "  print(\"Por favor, ingrese 5 cifras para la lista2:\")\n",
        "  lista2 = []\n",
        "  for i in range(5):\n",
        "      cifra = int(input(f\"Ingrese la cifra {i+1}: \"))\n",
        "      lista2.append(cifra)\n",
        "\n",
        "      print(\"La lista2 es:\", lista2)\n",
        "except ValueError:\n",
        "  print(\"Por favor, ingrese solo numeros enteros.\")"
      ],
      "metadata": {
        "colab": {
          "base_uri": "https://localhost:8080/"
        },
        "id": "3e8vktEzqU-0",
        "outputId": "59e902fe-d5cc-494d-cedd-528f20ed17d5"
      },
      "execution_count": null,
      "outputs": [
        {
          "output_type": "stream",
          "name": "stdout",
          "text": [
            "Por favor, ingrese 5 cifras para la lista1:\n",
            "Ingrese la cifra 1: 40\n",
            "La lista1 es: [40]\n",
            "Ingrese la cifra 2: 50\n",
            "La lista1 es: [40, 50]\n",
            "Ingrese la cifra 3: 80\n",
            "La lista1 es: [40, 50, 80]\n",
            "Ingrese la cifra 4: 90\n",
            "La lista1 es: [40, 50, 80, 90]\n",
            "Ingrese la cifra 5: 100\n",
            "La lista1 es: [40, 50, 80, 90, 100]\n",
            "Por favor, ingrese 5 cifras para la lista2:\n",
            "Ingrese la cifra 1: 20\n",
            "La lista2 es: [20]\n",
            "Ingrese la cifra 2: 30\n",
            "La lista2 es: [20, 30]\n",
            "Ingrese la cifra 3: 40\n",
            "La lista2 es: [20, 30, 40]\n",
            "Ingrese la cifra 4: 50\n",
            "La lista2 es: [20, 30, 40, 50]\n",
            "Ingrese la cifra 5: 60\n",
            "La lista2 es: [20, 30, 40, 50, 60]\n"
          ]
        }
      ]
    },
    {
      "cell_type": "code",
      "source": [
        "import random\n",
        "def suma_listas(lista1, lista2):\n",
        "    if len(lista1) != len(lista2):\n",
        "        print(\"Las listas no tienen el mismo tamaño. Se utilizara el tamaño de la lista mas pequeña\")\n",
        "\n",
        "    minLongitud = min(len(lista1), len(lista2))\n",
        "\n",
        "    sumas = []\n",
        "\n",
        "    for i in range(minLongitud):\n",
        "        suma = lista1[i] + lista2[i]\n",
        "        sumas.append(suma)\n",
        "\n",
        "    return sumas\n",
        "\n",
        "resultados = suma_listas(lista1, lista2)\n",
        "print(\"Los resultados de las sumas son:\", resultados)"
      ],
      "metadata": {
        "colab": {
          "base_uri": "https://localhost:8080/"
        },
        "id": "r3SCJLN6ir59",
        "outputId": "5b383c2e-c8a4-44df-fcd3-bb1c4e0a2b88"
      },
      "execution_count": null,
      "outputs": [
        {
          "output_type": "stream",
          "name": "stdout",
          "text": [
            "Los resultados de las sumas son: [60, 80, 120, 140, 160]\n"
          ]
        }
      ]
    },
    {
      "cell_type": "markdown",
      "source": [
        "4.- Escribe una función llamada eliminar_duplicados que reciba una lista como parámetro y elimine los elementos duplicados. El resultado debe ser una nueva lista sin duplicados. Pide al usuario que ingrese una lista y luego llama a la función eliminar_duplicados para mostrar la lista sin duplicados. (Solo Numeros enteros, validar)"
      ],
      "metadata": {
        "id": "S5AC595nq1f1"
      }
    },
    {
      "cell_type": "code",
      "source": [
        "try:\n",
        "  def eliminar_duplicados(lista):\n",
        "\n",
        "      conjunto_sin_duplicados = set(lista)\n",
        "\n",
        "      lista_sin_duplicados = list(conjunto_sin_duplicados)\n",
        "      return lista_sin_duplicados\n",
        "\n",
        "\n",
        "  entradaUsuario = input(\"Ingrese una lista separada por espacios: \")\n",
        "  listaIngresada = entradaUsuario.split()\n",
        "\n",
        "\n",
        "  listaIngresada = [int(elemento) for elemento in listaIngresada]\n",
        "  lista_sin_duplicados = eliminar_duplicados(listaIngresada)\n",
        "\n",
        "  print(\"Lista sin duplicados:\", lista_sin_duplicados)\n",
        "except ValueError:\n",
        "  print(\"Lo siento, unicamente permito numeros enteros.\")"
      ],
      "metadata": {
        "id": "w15Z9NNzq4pR"
      },
      "execution_count": null,
      "outputs": []
    },
    {
      "cell_type": "markdown",
      "source": [
        "5.- Escribe una función que calcule la media y la mediana de una lista de números enteros.\n",
        "\n",
        "La media es la suma de todos los elementos y dividido entre la cantidad de elementos\n",
        "\n",
        "La mediana es el valor que queda en la mitad de la lista cuando se ordena de forma ascendente. Si la lista tiene un número par de elementos, la mediana se calcula como el promedio de los dos valores centrales. Puedes utilizar el método sort() para ordenar la lista y luego calcular la mediana según el tamaño de la lista.\n"
      ],
      "metadata": {
        "id": "JEVtUVeTssaZ"
      }
    },
    {
      "cell_type": "code",
      "source": [
        "try:\n",
        "  print(\"Por favor, ingrese 10 cifras para la lista numeros:\")\n",
        "  numeros = []\n",
        "  for i in range(10):\n",
        "      cifra = int(input(f\"Ingrese la cifra {i+1}: \"))\n",
        "      numeros.append(cifra)\n",
        "\n",
        "      print(\"La lista1 es:\", numeros)\n",
        "except ValueError:\n",
        "  print(\"Ingrese solamente numeros enteros.\")"
      ],
      "metadata": {
        "colab": {
          "base_uri": "https://localhost:8080/"
        },
        "id": "10TT56PxthYN",
        "outputId": "e3defc98-3cbe-4c11-983c-583c1c2a2fcc"
      },
      "execution_count": null,
      "outputs": [
        {
          "output_type": "stream",
          "name": "stdout",
          "text": [
            "Por favor, ingrese 10 cifras para la lista numeros:\n",
            "Ingrese la cifra 1: 4\n",
            "La lista1 es: [4]\n",
            "Ingrese la cifra 2: 7\n",
            "La lista1 es: [4, 7]\n",
            "Ingrese la cifra 3: 2\n",
            "La lista1 es: [4, 7, 2]\n",
            "Ingrese la cifra 4: 9\n",
            "La lista1 es: [4, 7, 2, 9]\n",
            "Ingrese la cifra 5: 1\n",
            "La lista1 es: [4, 7, 2, 9, 1]\n",
            "Ingrese la cifra 6: 6\n",
            "La lista1 es: [4, 7, 2, 9, 1, 6]\n",
            "Ingrese la cifra 7: 3\n",
            "La lista1 es: [4, 7, 2, 9, 1, 6, 3]\n",
            "Ingrese la cifra 8: 8\n",
            "La lista1 es: [4, 7, 2, 9, 1, 6, 3, 8]\n",
            "Ingrese la cifra 9: 5\n",
            "La lista1 es: [4, 7, 2, 9, 1, 6, 3, 8, 5]\n",
            "Ingrese la cifra 10: 9\n",
            "La lista1 es: [4, 7, 2, 9, 1, 6, 3, 8, 5, 9]\n"
          ]
        }
      ]
    },
    {
      "cell_type": "code",
      "source": [
        "def calcularMedia(lista):\n",
        "    sumaTotal = sum(lista)\n",
        "    media = sumaTotal / len(lista)\n",
        "    return media\n",
        "\n",
        "def calcularMediana(lista):\n",
        "    listaOrdenada = sorted(lista)\n",
        "    n = len(listaOrdenada)\n",
        "    if n % 2 == 0:\n",
        "        mediana = (listaOrdenada[n//2 - 1] + listaOrdenada[n//2]) / 2\n",
        "    else:\n",
        "        mediana = listaOrdenada[n//2]\n",
        "    return mediana\n",
        "\n",
        "media = calcularMedia(numeros)\n",
        "mediana = calcularMediana(numeros)\n",
        "\n",
        "print(\"La media de la lista es:\", media)\n",
        "print(\"La mediana de la lista es:\", mediana)"
      ],
      "metadata": {
        "colab": {
          "base_uri": "https://localhost:8080/"
        },
        "id": "WqA07ulzsun_",
        "outputId": "ae05022a-b353-417c-8dad-00ca811f9fab"
      },
      "execution_count": null,
      "outputs": [
        {
          "output_type": "stream",
          "name": "stdout",
          "text": [
            "La media de la lista es: 5.4\n",
            "La mediana de la lista es: 5.5\n"
          ]
        }
      ]
    }
  ]
}