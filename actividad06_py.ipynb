{
  "nbformat": 4,
  "nbformat_minor": 0,
  "metadata": {
    "colab": {
      "provenance": [],
      "collapsed_sections": [
        "46buGumxfpoA",
        "Dr-sliDpba1S"
      ],
      "authorship_tag": "ABX9TyNTHrja6daUrvtNTRmA4VdT",
      "include_colab_link": true
    },
    "kernelspec": {
      "name": "python3",
      "display_name": "Python 3"
    },
    "language_info": {
      "name": "python"
    }
  },
  "cells": [
    {
      "cell_type": "markdown",
      "metadata": {
        "id": "view-in-github",
        "colab_type": "text"
      },
      "source": [
        "<a href=\"https://colab.research.google.com/github/dartangel2807/actividades/blob/main/actividad06_py.ipynb\" target=\"_parent\"><img src=\"https://colab.research.google.com/assets/colab-badge.svg\" alt=\"Open In Colab\"/></a>"
      ]
    },
    {
      "cell_type": "markdown",
      "source": [
        "#FUNCIONES PARA SER LLAMADAS EN EL MENU"
      ],
      "metadata": {
        "id": "46buGumxfpoA"
      }
    },
    {
      "cell_type": "code",
      "source": [
        "def valinum(ri,rf,msge):\n",
        "  while(True):\n",
        "    try:\n",
        "      num = int(input(f\"{msge}({ri} al {rf}):\"))\n",
        "    except:\n",
        "      print(\"ERROR\")\n",
        "      continue\n",
        "    if (num < ri or num > rf):\n",
        "      print(\"ERROR, numero fuera de rango\")\n",
        "      continue\n",
        "      break\n",
        "      return num"
      ],
      "metadata": {
        "id": "WG3kRCrdfQ5W"
      },
      "execution_count": null,
      "outputs": []
    },
    {
      "cell_type": "markdown",
      "source": [
        "1.- FUNCIÓN QUE LEA n CANTIDAD DE NÚMEROS HASTA QUE EL USUARIO LO DESEE, DESPLEGAR LA SUMA DE LOS NÚMEROS, MEDIA Y VALOR DE LOS NÚMEROS MAYORES Y MENORES."
      ],
      "metadata": {
        "id": "pJ6K_Q5_fsZL"
      }
    },
    {
      "cell_type": "code",
      "source": [
        "def numeros():\n",
        "  numeros = []\n",
        "  suma=0\n",
        "  cantidadNumeros=0\n",
        "  while True:\n",
        "    try:\n",
        "      numero=int(input(\"Dame un numero: \"))\n",
        "      numeros.append(numero)\n",
        "      suma=suma+numero\n",
        "      cantidadNumeros=cantidadNumeros+1\n",
        "      respuesta=str(input(\"Desea continuar? (s/n) \"))\n",
        "      if respuesta=='n':\n",
        "        break\n",
        "    except ValueError:\n",
        "      print(\"Error, ingresa un numero valido\")\n",
        "  media=suma/cantidadNumeros\n",
        "  mayores = max(numeros)\n",
        "  menores = min(numeros)\n",
        "  print(\"La suma de los numeros es: \"+str(suma))\n",
        "  print(\"La media de los numeros es: \"+str(media))\n",
        "  print(\"Los numeros mayores son: \"+str(mayores))\n",
        "  print(\"Los numeros menores son: \"+str(menores))"
      ],
      "metadata": {
        "id": "ifl6jK37e_vp"
      },
      "execution_count": null,
      "outputs": []
    },
    {
      "cell_type": "markdown",
      "source": [
        "2.- FUNCIÓN QUE GENERE 15 NÚMEROS IMPARES ENTRE 10 Y 60 o MÁXIMO DE 25 NÚMEROS. DESPLEGAR LA MEDIA DE LOS PARES Y MEDIA DE IMPARES."
      ],
      "metadata": {
        "id": "48reHUp2gzRC"
      }
    },
    {
      "cell_type": "code",
      "source": [
        "def quinceNums():\n",
        "  import random\n",
        "  i=0\n",
        "  par=0\n",
        "  impar=0\n",
        "  sumaPar=0\n",
        "  sumaImpar=0\n",
        "\n",
        "  while True:\n",
        "    i=i+1\n",
        "    numero=random.randint(10,60)\n",
        "    if (numero%2==0):\n",
        "      par = par+1\n",
        "      sumaPar=sumaPar+numero\n",
        "      print(f\"{i} - {numero} par\")\n",
        "    else:\n",
        "      impar=impar+1\n",
        "      sumaImpar=sumaImpar+numero\n",
        "      print(f\"{i} - {numero} impar\")\n",
        "    if impar == 15:\n",
        "      print(\"Has alcanzado el limite de numeros impares, 15.\")\n",
        "      break\n",
        "    if i==25:\n",
        "      print(\"Has alcanzado el limite de numeros, 25.\")\n",
        "      break\n",
        "  print(f\"La media de los numeros pares es de: {sumaPar / par}\")\n",
        "  print(f\"La media de los numeros impares es de: {sumaImpar / impar}\")"
      ],
      "metadata": {
        "id": "cEppWBQjg1ur"
      },
      "execution_count": null,
      "outputs": []
    },
    {
      "cell_type": "markdown",
      "source": [
        "3.- FUNCIÓN QUE SIRVA PARA LEER UN RANGO DADO POR EL USUARIO. REPETIR ESTA ACCIÓN HASTA QUE EL USUARIO LO DESEE, DESPLEGAR CANTIDAD DE NUMEROS Y PROMEDIO DE LOS NUMEROS.."
      ],
      "metadata": {
        "id": "eTPCLHdHg2Bp"
      }
    },
    {
      "cell_type": "code",
      "source": [
        "def rango_promedio():\n",
        "    while True:\n",
        "        ri = int(input(\"Dame el rango inicial: \"))\n",
        "        rf = int(input(\"Dame el rango final: \"))\n",
        "\n",
        "        numeros = list(range(ri, rf + 1))\n",
        "        cantidad_numeros = len(numeros)\n",
        "        suma = sum(numeros)\n",
        "        promedio = suma / cantidad_numeros\n",
        "\n",
        "        print(\"Cantidad de numeros:\", cantidad_numeros)\n",
        "        print(\"Promedio de los numeros:\", promedio)\n",
        "\n",
        "        opcion = input(\"Quieres continuar? (s/n): \")\n",
        "        if opcion == 'n':\n",
        "            break"
      ],
      "metadata": {
        "id": "-aUtOwBYg4Bc"
      },
      "execution_count": null,
      "outputs": []
    },
    {
      "cell_type": "markdown",
      "source": [
        "4.- FUNCIÓN QUE RECIBA COMO PARÁMETRO LOS VALORES PARA EL ÁREA DE UN TRIANGULO Y RETORNE SU RESULTADO"
      ],
      "metadata": {
        "id": "u_H0GcDdg4Sc"
      }
    },
    {
      "cell_type": "code",
      "source": [
        "def areaTriangulo(b,h):\n",
        "  b=int(input(\"Dame el valor de la base: \"))\n",
        "  h=int(input(\"Dame el valor de la altura: \"))\n",
        "  resultado=(b*h)/2\n",
        "  return resultado"
      ],
      "metadata": {
        "id": "o0fVYjV3g6mj"
      },
      "execution_count": null,
      "outputs": []
    },
    {
      "cell_type": "markdown",
      "source": [
        "5.- FUNCION QUE SIRVA QUE SIRVA PARA EVALUAR EL PROMEDIO DE 3 CALIFICACIONES DADAS, SI EL USUARIO SU CALIFICACION ES APROBADA MANDAR MSGE QUE DIGA \"felicidades avanzas al siguiente semestre\", SI LA CALIFICACIONE ESTA REPROBADA EL MENSAGE \"repetir materia \" EL ALUMNO TENDRA UN MAXIMO DE CURSAR 3 VESES LA MATERIA, SI LA REPRUEBA 3 VESES MANDAR MSGE \" lastima estas fuera de la UABC\"\n",
        "NOTA: VALIDAR EL PROGRAMA, DEBE MANDAR MSGES DE ERROR DE CALIFICACIONES Y NO PERMITIR LETRAS. ( try: except: )"
      ],
      "metadata": {
        "id": "F5vycbS6g67u"
      }
    },
    {
      "cell_type": "code",
      "source": [
        "def evaluarCalifs():\n",
        "    intentos = 0\n",
        "    while intentos < 3:\n",
        "        try:\n",
        "            calif1 = float(input(\"Dame la primera calificacion: \"))\n",
        "            calif2 = float(input(\"Dame la segunda calificacion: \"))\n",
        "            calif3 = float(input(\"Dame la tercera calificacion: \"))\n",
        "\n",
        "            promedio = (calif1 + calif2 + calif3) / 3\n",
        "\n",
        "            if promedio >= 60:\n",
        "                print(\"Felicidades, avanzas al siguiente semestre\")\n",
        "                return\n",
        "            else:\n",
        "                print(\"Repetir materia\")\n",
        "                intentos=intentos+1\n",
        "        except ValueError:\n",
        "            print(\"Error: Ingrese solo números para las calificaciones.\")\n",
        "    print(\"Lastima, estas fuera de la UABC\")"
      ],
      "metadata": {
        "id": "dFwpnHJ2hDCN"
      },
      "execution_count": null,
      "outputs": []
    },
    {
      "cell_type": "markdown",
      "source": [
        "#MENU"
      ],
      "metadata": {
        "id": "Dr-sliDpba1S"
      }
    },
    {
      "cell_type": "code",
      "source": [
        "print(\"Bienvenido al menu, te presento las siguientes funciones: \")\n",
        "print(\"1. FUNCIÓN QUE LEA n CANTIDAD DE NÚMEROS HASTA QUE EL USUARIO LO DESEE.\")\n",
        "print(\"2. FUNCIÓN QUE GENERE 15 NÚMEROS IMPARES ENTRE 10 Y 60 o MÁXIMO DE 25 NÚMEROS.\")\n",
        "print(\"3. FUNCIÓN QUE SIRVA PARA LEER UN RANGO DADO POR EL USUARIO.\")\n",
        "print(\"4. FUNCIÓN QUE RECIBA COMO PARÁMETRO LOS VALORES PARA EL ÁREA DE UN TRIANGULO Y RETORNE SU RESULTADO\")\n",
        "print(\"5. FUNCION QUE SIRVA QUE SIRVA PARA EVALUAR EL PROMEDIO DE 3 CALIFICACIONES DADAS\")\n",
        "opcion = int(input(\"Cual funcion deseas ejecutar? \"))\n",
        "if opcion == 1:\n",
        "  numeros()\n",
        "if opcion == 2:\n",
        "  quinceNums()\n",
        "if opcion == 3:\n",
        "  rango_promedio()\n",
        "if opcion == 4:\n",
        "  areaTriangulo(b,h)\n",
        "if opcion == 5:\n",
        "  evaluarCalifs()"
      ],
      "metadata": {
        "id": "intsbunzbeb0",
        "colab": {
          "base_uri": "https://localhost:8080/"
        },
        "outputId": "e55e5839-1e82-4177-cc8b-1cc85afc3c83"
      },
      "execution_count": null,
      "outputs": [
        {
          "output_type": "stream",
          "name": "stdout",
          "text": [
            "Bienvenido al menu, te presento las siguientes funciones: \n",
            "1. FUNCIÓN QUE LEA n CANTIDAD DE NÚMEROS HASTA QUE EL USUARIO LO DESEE.\n",
            "2. FUNCIÓN QUE GENERE 15 NÚMEROS IMPARES ENTRE 10 Y 60 o MÁXIMO DE 25 NÚMEROS.\n",
            "3. FUNCIÓN QUE SIRVA PARA LEER UN RANGO DADO POR EL USUARIO.\n",
            "4. FUNCIÓN QUE RECIBA COMO PARÁMETRO LOS VALORES PARA EL ÁREA DE UN TRIANGULO Y RETORNE SU RESULTADO\n",
            "5. FUNCION QUE SIRVA QUE SIRVA PARA EVALUAR EL PROMEDIO DE 3 CALIFICACIONES DADAS\n",
            "Cual funcion deseas ejecutar? 1\n",
            "Dame un numero: 9\n",
            "Desea continuar? (s/n) s\n",
            "Dame un numero: 9\n",
            "Desea continuar? (s/n) n\n",
            "La suma de los numeros es: 18\n",
            "La media de los numeros es: 9.0\n",
            "Los numeros mayores son: 9\n",
            "Los numeros menores son: 9\n"
          ]
        }
      ]
    }
  ]
}