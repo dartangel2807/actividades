{
  "nbformat": 4,
  "nbformat_minor": 0,
  "metadata": {
    "colab": {
      "provenance": [],
      "authorship_tag": "ABX9TyPcmVWyaCy+OSNylUObTJzE",
      "include_colab_link": true
    },
    "kernelspec": {
      "name": "python3",
      "display_name": "Python 3"
    },
    "language_info": {
      "name": "python"
    }
  },
  "cells": [
    {
      "cell_type": "markdown",
      "metadata": {
        "id": "view-in-github",
        "colab_type": "text"
      },
      "source": [
        "<a href=\"https://colab.research.google.com/github/dartangel2807/actividades/blob/main/actividad09.ipynb\" target=\"_parent\"><img src=\"https://colab.research.google.com/assets/colab-badge.svg\" alt=\"Open In Colab\"/></a>"
      ]
    },
    {
      "cell_type": "markdown",
      "source": [
        "    Realiza un programa en python que utilice el siguiente menu:\n",
        "\n",
        "     MENU\n",
        "\n",
        "     1.- Crear Diccionario\n",
        "\n",
        "     2.- Imprimir Diccionario\n",
        "\n",
        "     0.- Salir\n",
        "\n",
        "\n",
        "    CREAR DICCIIONARIO: funcion que retorne un diccionario con los datos de basicos de un alumno, donde se pide {id,nombre (1 O 2) , appaterno,apmaterno, edad,sexo}, El diccionario se debe generar automaticmanete a partir de listas.\n",
        "\n",
        "\n",
        "    IMPRIMIR DICCIONARIO:  Funcion que reciba como parametro el diccionario, y le de una salida mostrando la informacion en forma de registro que se genero con el diccionario"
      ],
      "metadata": {
        "id": "cgdtrPby0WFv"
      }
    },
    {
      "cell_type": "code",
      "execution_count": 3,
      "metadata": {
        "id": "wRpBH7Ks0J-8",
        "colab": {
          "base_uri": "https://localhost:8080/",
          "height": 0
        },
        "outputId": "0e2cb854-b443-4583-9ee2-238708bf2943"
      },
      "outputs": [
        {
          "name": "stdout",
          "output_type": "stream",
          "text": [
            "MENU:\n",
            "1.- Crear diccionario\n",
            "2.- Imprimir diccionario\n",
            "0.- Salir\n",
            "Seleccione una opcion: 1\n",
            "Escribe tu id: 372611\n",
            "Escribe tu(s) nombre(s): Angel Ricardo\n",
            "Escribe tu apellido paterno: Valenzuela\n",
            "Escribe tu apellido materno: Coronado\n",
            "Escribe tu edad: 19\n",
            "Escribe tu sexo (H) o (M): H\n",
            "MENU:\n",
            "1.- Crear diccionario\n",
            "2.- Imprimir diccionario\n",
            "0.- Salir\n",
            "Seleccione una opcion: 2\n",
            "id  :  372611\n",
            "Nombre(s)  :  Angel Ricardo\n",
            "Ap. Paterno  :  Valenzuela\n",
            "Ap. Materno  :  Coronado\n",
            "Edad  :  19\n",
            "Sexo  :  H\n",
            "MENU:\n",
            "1.- Crear diccionario\n",
            "2.- Imprimir diccionario\n",
            "0.- Salir\n",
            "Seleccione una opcion: 0\n"
          ]
        }
      ],
      "source": [
        "#Funcion para pedir datos de entrada y almacenarlos en un diccionario\n",
        "def crearDicc():\n",
        "    lista = []\n",
        "    id = int(input(\"Escribe tu id: \"))\n",
        "    lista.append(id)\n",
        "    nombre = str(input(\"Escribe tu(s) nombre(s): \"))\n",
        "    lista.append(nombre)\n",
        "    appaterno = str(input(\"Escribe tu apellido paterno: \"))\n",
        "    lista.append(appaterno)\n",
        "    apmaterno = str(input(\"Escribe tu apellido materno: \"))\n",
        "    lista.append(apmaterno)\n",
        "    edad = int(input(\"Escribe tu edad: \"))\n",
        "    lista.append(edad)\n",
        "    sexo = str(input(\"Escribe tu sexo (H) o (M): \"))\n",
        "    lista.append(sexo)\n",
        "\n",
        "    lista2 = [\"id\", \"Nombre(s)\", \"Ap. Paterno\", \"Ap. Materno\", \"Edad\", \"Sexo\"]\n",
        "    listas = dict(zip(lista2, lista))\n",
        "    return listas\n",
        "\n",
        "#Funcion para imprimir el diccionario mediante un ciclo for\n",
        "def imprimirDicc(listas):\n",
        "    for key in listas:\n",
        "        print(key, \" : \", listas[key])\n",
        "\n",
        "#Menu de opciones\n",
        "while True:\n",
        "    print(\"MENU:\")\n",
        "    print(\"1.- Crear diccionario\")\n",
        "    print(\"2.- Imprimir diccionario\")\n",
        "    print(\"0.- Salir\")\n",
        "\n",
        "    opcion = int(input(\"Seleccione una opcion: \"))\n",
        "    if opcion == 1:\n",
        "        listas = crearDicc()\n",
        "    elif opcion == 2:\n",
        "        imprimirDicc(listas)\n",
        "    elif opcion == 0:\n",
        "        break"
      ]
    }
  ]
}