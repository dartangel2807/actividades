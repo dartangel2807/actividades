{
  "nbformat": 4,
  "nbformat_minor": 0,
  "metadata": {
    "colab": {
      "provenance": [],
      "authorship_tag": "ABX9TyOdEfujAF/Pj1b/UwSG7J4X",
      "include_colab_link": true
    },
    "kernelspec": {
      "name": "python3",
      "display_name": "Python 3"
    },
    "language_info": {
      "name": "python"
    }
  },
  "cells": [
    {
      "cell_type": "markdown",
      "metadata": {
        "id": "view-in-github",
        "colab_type": "text"
      },
      "source": [
        "<a href=\"https://colab.research.google.com/github/dartangel2807/actividades/blob/main/actividad08.ipynb\" target=\"_parent\"><img src=\"https://colab.research.google.com/assets/colab-badge.svg\" alt=\"Open In Colab\"/></a>"
      ]
    },
    {
      "cell_type": "markdown",
      "source": [
        "1.- Programa en python que genere un número entre el 1 y 10 (no visible)  preguntarle al usuario que número cree que generó la computadora, el usuario tendrá 3 oportunidades de adivinar.\n",
        "\n",
        "Decir si adivino o si falló en sus 3 intentos.\n",
        "\n",
        "NOTA: 100% VALIDADO (usar función para validar números)\n",
        "\n",
        "\n",
        "\n",
        "NOTA2: El usuario podrá jugar cuantas veces lo desee, al final del juego desplegar cantidad de ganados y perdidos"
      ],
      "metadata": {
        "id": "EvAmWNfjnXqF"
      }
    },
    {
      "cell_type": "code",
      "execution_count": null,
      "metadata": {
        "id": "6sMxK96MnUHm"
      },
      "outputs": [],
      "source": [
        "import random\n",
        "\n",
        "def validarNum(numero):\n",
        "    try:\n",
        "        numero = int(numero)\n",
        "        if 1 <= numero <= 10:\n",
        "            return True, numero\n",
        "        else:\n",
        "            return False, \"Error, el número tendrá que estar entre 1 y 10\"\n",
        "    except ValueError:\n",
        "        return False, \"Por favor, ingresa un número válido entre el 1 y 10.\"\n",
        "\n",
        "def jugar():\n",
        "    numeroSecreto = random.randint(1, 10)\n",
        "    intentos = 3\n",
        "\n",
        "    print(\"Adivina el número invisible entre 1 y 10\")\n",
        "\n",
        "    for i in range(intentos):\n",
        "        print(f\"Intento {i + 1}:\")\n",
        "        respuesta = input(\"Ingresa el número que crees que sea: \")\n",
        "\n",
        "        valido, mensaje = validarNum(respuesta)\n",
        "\n",
        "        if valido:\n",
        "            numero_usuario = int(respuesta)\n",
        "\n",
        "            if numero_usuario == numeroSecreto:\n",
        "                print(\"Felicidades, has acertado el número\")\n",
        "                return True\n",
        "            else:\n",
        "                print(\"Has fallado, intenta de nuevo\")\n",
        "        else:\n",
        "            print(mensaje)\n",
        "\n",
        "    print(f\"El número secreto era {numeroSecreto}.\")\n",
        "    return False\n",
        "\n",
        "def main():\n",
        "    ganados = 0\n",
        "    perdidos = 0\n",
        "\n",
        "    seguirJugando = True\n",
        "    while seguirJugando:\n",
        "        if jugar():\n",
        "            ganados += 1\n",
        "        else:\n",
        "            perdidos += 1\n",
        "\n",
        "        respuesta = input(\"¿Quieres jugar de nuevo? (s/n): \")\n",
        "        if respuesta.lower() != 's':\n",
        "            seguirJugando = False\n",
        "        else:\n",
        "            seguirJugando = True\n",
        "\n",
        "    print(f\"\\nJuegos ganados: {ganados}\")\n",
        "    print(f\"Juegos perdidos: {perdidos}\")\n",
        "if __name__ == \"__main__\":\n",
        "    main()"
      ]
    },
    {
      "cell_type": "markdown",
      "source": [
        "2.- El juego Busca Número muestra una lista de 10 numeros, sin mostrar su contenido,\n",
        "\n",
        "Al usuario se le muestra un número que se generó aleatoriamente y el usuario tendrá 3 intentos de adivinar en qué índice del arreglo se encuentra.\n",
        "\n",
        "El usuario recibirá un mensaje que diga GANASTE, PERDISTE, TIENES UN NUEVO INTENTO\n",
        "\n",
        "El usuario podrá jugar cuantas veces lo desee.\n",
        "\n",
        "\n",
        "\n",
        "NOTA: La lista se deberá llenar con números aleatorios del 1 al 10 no repetidos.\n",
        "\n",
        "(Hacer una función que regrese la lista con los 10 números sin repetir)"
      ],
      "metadata": {
        "id": "xO_uUfeYhgXZ"
      }
    },
    {
      "cell_type": "markdown",
      "source": [
        "Versión A: Usar ciclos para validar los repetidos, y sólo random para generar los números dentro del rango\n",
        "\n"
      ],
      "metadata": {
        "id": "QGeR-V5_izhT"
      }
    },
    {
      "cell_type": "code",
      "source": [
        "import random\n",
        "def generarListaNums():\n",
        "    numeros = []\n",
        "    while len(numeros) < 10:\n",
        "        numero = random.randint(1, 10)\n",
        "\n",
        "        if numero not in numeros:\n",
        "            numeros.append(numero)\n",
        "    return numeros\n",
        "\n",
        "def jugar():\n",
        "    numeros = generarListaNums()\n",
        "    numeroSecreto = random.choice(numeros)\n",
        "\n",
        "    print(\"Bienvenido al juego de buscar números\")\n",
        "\n",
        "    intentos = 3\n",
        "    for i in range(intentos):\n",
        "        print(f\"\\nIntento {i + 1}:\")\n",
        "        print(f\"El número es: {numeroSecreto}\")\n",
        "\n",
        "        try:\n",
        "            indice = int(input(f\"EL NÚMERO {numeroSecreto} SE ENCUENTRA EN EL ÍNDICE ? :  \"))\n",
        "\n",
        "            if numeros[indice] == numeroSecreto:\n",
        "                print(\"GANASTE\")\n",
        "                return True\n",
        "            else:\n",
        "                print(\"Incorrecto. TIENES UN NUEVO INTENTO\")\n",
        "\n",
        "        except (ValueError, IndexError):\n",
        "            print(\"Por favor, ingresa un índice válido.\")\n",
        "\n",
        "    print(f\"El número era {numeroSecreto}. PERDISTE\")\n",
        "    return False\n",
        "\n",
        "def main():\n",
        "    seguirJugando = True\n",
        "    while seguirJugando:\n",
        "        if jugar():\n",
        "            print(\"Bien hecho\")\n",
        "        else:\n",
        "            print(\"Más suerte la próxima vez.\")\n",
        "\n",
        "        respuesta = input(\"¿Quieres jugar de nuevo? (s/n): \")\n",
        "        if respuesta.lower() != 's':\n",
        "            seguirJugando = False\n",
        "\n",
        "if __name__ == \"__main__\":\n",
        "    main()"
      ],
      "metadata": {
        "id": "ZKgMuOsQi1K7"
      },
      "execution_count": null,
      "outputs": []
    },
    {
      "cell_type": "markdown",
      "source": [
        "Version B: Usa funciones de la librería Random para llenar la lista con los número sin repetir"
      ],
      "metadata": {
        "id": "J8Cn0CVBnMJl"
      }
    },
    {
      "cell_type": "code",
      "source": [
        "import random\n",
        "\n",
        "def generarListaNums():\n",
        "    numeros = random.sample(range(1, 11), 10)\n",
        "    return numeros\n",
        "\n",
        "def jugar():\n",
        "    numeros = generarListaNums()\n",
        "    numeroSecreto = random.choice(numeros)\n",
        "\n",
        "    print(\"Bienvenido al juego de buscar números\")\n",
        "\n",
        "    intentos = 3\n",
        "    for i in range(intentos):\n",
        "        print(f\"\\nIntento {i + 1}:\")\n",
        "        print(f\"El número es: {numeroSecreto}\")\n",
        "\n",
        "        try:\n",
        "            indice = int(input(f\"EL NÚMERO {numeroSecreto} SE ENCUENTRA EN EL ÍNDICE ? :  \"))\n",
        "\n",
        "            if numeros[indice] == numeroSecreto:\n",
        "                print(\"GANASTE\")\n",
        "                return True\n",
        "            else:\n",
        "                print(\"Incorrecto. TIENES UN NUEVO INTENTO\")\n",
        "\n",
        "        except (ValueError, IndexError):\n",
        "            print(\"Por favor, ingresa un índice válido.\")\n",
        "\n",
        "    print(f\"El número era {numeroSecreto}. PERDISTE\")\n",
        "    return False\n",
        "\n",
        "def main():\n",
        "    seguirJugando = True\n",
        "    while seguirJugando:\n",
        "        if jugar():\n",
        "            print(\"Bien hecho\")\n",
        "        else:\n",
        "            print(\"Más suerte la próxima vez.\")\n",
        "\n",
        "        respuesta = input(\"¿Quieres jugar de nuevo? (s/n): \")\n",
        "        if respuesta.lower() != 's':\n",
        "            seguirJugando = False\n",
        "\n",
        "if __name__ == \"__main__\":\n",
        "    main()"
      ],
      "metadata": {
        "id": "S6a-PEeHnSJ2"
      },
      "execution_count": null,
      "outputs": []
    },
    {
      "cell_type": "markdown",
      "source": [
        "Versión C: Usa funciones de la librería Random para llenar la lista con los número sin repetir (shuffle)"
      ],
      "metadata": {
        "id": "kBHQRo5MtVKm"
      }
    },
    {
      "cell_type": "code",
      "source": [
        "import random\n",
        "\n",
        "def generarListaNums():\n",
        "    numeros = list(range(1, 11))\n",
        "    random.shuffle(numeros)\n",
        "    return numeros[:10]\n",
        "\n",
        "def jugar():\n",
        "    numeros = generarListaNums()\n",
        "    numeroSecreto = random.choice(numeros)\n",
        "\n",
        "    print(\"Bienvenido al juego de buscar números\")\n",
        "\n",
        "    intentos = 3\n",
        "    for i in range(intentos):\n",
        "        print(f\"\\nIntento {i + 1}:\")\n",
        "        print(f\"El número es: {numeroSecreto}\")\n",
        "\n",
        "        try:\n",
        "            indice = int(input(f\"EL NÚMERO {numeroSecreto} SE ENCUENTRA EN EL ÍNDICE ? :  \"))\n",
        "\n",
        "            if numeros[indice] == numeroSecreto:\n",
        "                print(\"GANASTE\")\n",
        "                return True\n",
        "            else:\n",
        "                print(\"Incorrecto. TIENES UN NUEVO INTENTO\")\n",
        "\n",
        "        except (ValueError, IndexError):\n",
        "            print(\"Por favor, ingresa un índice válido.\")\n",
        "\n",
        "    print(f\"El número era {numeroSecreto}. PERDISTE\")\n",
        "    return False\n",
        "\n",
        "def main():\n",
        "    seguirJugando = True\n",
        "    while seguirJugando:\n",
        "        if jugar():\n",
        "            print(\"Bien hecho\")\n",
        "        else:\n",
        "            print(\"Más suerte la próxima vez.\")\n",
        "\n",
        "        respuesta = input(\"¿Quieres jugar de nuevo? (s/n): \")\n",
        "        if respuesta.lower() != 's':\n",
        "            seguirJugando = False\n",
        "\n",
        "if __name__ == \"__main__\":\n",
        "    main()"
      ],
      "metadata": {
        "id": "Vw3Pp75xteiT"
      },
      "execution_count": null,
      "outputs": []
    }
  ]
}