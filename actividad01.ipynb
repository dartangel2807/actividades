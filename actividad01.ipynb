{
  "nbformat": 4,
  "nbformat_minor": 0,
  "metadata": {
    "colab": {
      "provenance": [],
      "authorship_tag": "ABX9TyPjHpnKfpn8MpAhgGyrVkhn",
      "include_colab_link": true
    },
    "kernelspec": {
      "name": "python3",
      "display_name": "Python 3"
    },
    "language_info": {
      "name": "python"
    }
  },
  "cells": [
    {
      "cell_type": "markdown",
      "metadata": {
        "id": "view-in-github",
        "colab_type": "text"
      },
      "source": [
        "<a href=\"https://colab.research.google.com/github/dartangel2807/actividades/blob/main/actividad01.ipynb\" target=\"_parent\"><img src=\"https://colab.research.google.com/assets/colab-badge.svg\" alt=\"Open In Colab\"/></a>"
      ]
    },
    {
      "cell_type": "markdown",
      "source": [
        "***Valenzuela Coronado Ángel Ricardo - Grupo 432 - Ing. en Computación***"
      ],
      "metadata": {
        "id": "6ygAObS3li_C"
      }
    },
    {
      "cell_type": "markdown",
      "source": [
        "**1.- Programa en Python Mostrar un mensaje que diga “HOLA MUNDO” en un solo renglón usando 2 print**"
      ],
      "metadata": {
        "id": "_PoFn9OZfzAU"
      }
    },
    {
      "cell_type": "code",
      "source": [
        "texto1='Hola'\n",
        "texto2='mundo'\n",
        "print(texto1, end=' ')\n",
        "print(texto2)"
      ],
      "metadata": {
        "colab": {
          "base_uri": "https://localhost:8080/"
        },
        "id": "r9qSSiY6f8d3",
        "outputId": "f14b907e-5b3d-4ce6-f43b-6b78ae41a6b6"
      },
      "execution_count": null,
      "outputs": [
        {
          "output_type": "stream",
          "name": "stdout",
          "text": [
            "Hola mundo\n"
          ]
        }
      ]
    },
    {
      "cell_type": "markdown",
      "source": [
        "**2.- Programa en Python que lea 2 números, realizar la suma y desplegar la suma de los 2 números**"
      ],
      "metadata": {
        "id": "RkYtA6OOh5N2"
      }
    },
    {
      "cell_type": "code",
      "source": [
        "num1 = int(input(\"Dame el valor del primer número: \"))\n",
        "\n",
        "num2 = int(input(\"Ahora dame el valor del segundo número: \"))\n",
        "suma = num1+num2\n",
        "print (\"La suma de los dos números es: \"+str(suma))"
      ],
      "metadata": {
        "colab": {
          "base_uri": "https://localhost:8080/"
        },
        "id": "e0Z2ZqUSh9Ki",
        "outputId": "abcd268e-f32c-4eb4-865f-3eba2bb02d60"
      },
      "execution_count": null,
      "outputs": [
        {
          "output_type": "stream",
          "name": "stdout",
          "text": [
            "Dame el valor del primer número: 5\n",
            "Ahora dame el valor del segundo número: 3\n",
            "La suma de los dos números es: 8\n"
          ]
        }
      ]
    },
    {
      "cell_type": "markdown",
      "source": [
        "**3.- Programa en Python que lea 2 números y realice las 4 operaciones básicas**"
      ],
      "metadata": {
        "id": "5TOWQVivlRfo"
      }
    },
    {
      "cell_type": "code",
      "source": [
        "num1=int(input(\"Dame el valor del primer número: \"))\n",
        "num2=int(input(\"Ahora dame el valor del segundo número: \"))\n",
        "suma = num1+num2\n",
        "resta = num1-num2\n",
        "mult = num1*num2\n",
        "div = num1/num2\n",
        "print(\"Aquí muestro las cuatro operaciones básicas:\")\n",
        "print(\"Suma: \"+str(suma))\n",
        "print(\"Resta: \"+str(resta))\n",
        "print(\"Multiplicación: \"+str(mult))\n",
        "print(\"División: \"+str(div))"
      ],
      "metadata": {
        "colab": {
          "base_uri": "https://localhost:8080/"
        },
        "id": "T1NifHwLmY8u",
        "outputId": "30127b4a-1e35-445b-9f70-107a40e8e62a"
      },
      "execution_count": null,
      "outputs": [
        {
          "output_type": "stream",
          "name": "stdout",
          "text": [
            "Dame el valor del primer número: 5\n",
            "Ahora dame el valor del segundo número: 3\n",
            "Aquí muestro las cuatro operaciones básicas:\n",
            "Suma: 8\n",
            "Resta: 2\n",
            "Multiplicación: 15\n",
            "División: 1.6666666666666667\n"
          ]
        }
      ]
    },
    {
      "cell_type": "markdown",
      "source": [
        "**4.- Programa en Python Que sirva para calcular el área de un triángulo**"
      ],
      "metadata": {
        "id": "SAo6k2bTnfAt"
      }
    },
    {
      "cell_type": "code",
      "source": [
        "base=int(input(\"Dame el valor de la base del triángulo: \"))\n",
        "altura=int(input(\"Ahora dame el valor de la altura: \"))\n",
        "area=(base*altura)/2\n",
        "print(\"El área del triángulo es: \"+str(area))"
      ],
      "metadata": {
        "colab": {
          "base_uri": "https://localhost:8080/"
        },
        "id": "j5H0vzdjnjdL",
        "outputId": "5900a693-d77f-490d-93c3-c55d27326021"
      },
      "execution_count": null,
      "outputs": [
        {
          "output_type": "stream",
          "name": "stdout",
          "text": [
            "Dame el valor de la base del triángulo: 13\n",
            "Ahora dame el valor de la altura: 10\n",
            "El área del triángulo es: 65.0\n"
          ]
        }
      ]
    },
    {
      "cell_type": "markdown",
      "source": [
        "**5.- Programa en Python que lea una medida en centímetros y desplegar la misma medida pero convertida en pies y pulgadas**"
      ],
      "metadata": {
        "id": "lXGOt4LjrAOz"
      }
    },
    {
      "cell_type": "code",
      "source": [
        "medida=float(input(\"Dame el valor de la medida en centímetros: \"))\n",
        "pies=medida/30.48\n",
        "pulgadas=medida/2.54\n",
        "print(\"El valor en pies es de: \"+str(pies))\n",
        "print(\"El valor en pulgadas es de: \"+str(pulgadas))"
      ],
      "metadata": {
        "colab": {
          "base_uri": "https://localhost:8080/"
        },
        "id": "9yHN0ZycrCd_",
        "outputId": "e8133244-b8ce-496b-d2a9-faa06301b5ad"
      },
      "execution_count": null,
      "outputs": [
        {
          "output_type": "stream",
          "name": "stdout",
          "text": [
            "Dame el valor de la medida en centímetros: 25.3\n",
            "El valor en pies es de: 0.8300524934383202\n",
            "El valor en pulgadas es de: 9.960629921259843\n"
          ]
        }
      ]
    },
    {
      "cell_type": "markdown",
      "source": [
        "**6.- Programa en Python que lea una temperatura en grados centígrados y desplegarla en Grados Fahrenheit y grados kelvin**"
      ],
      "metadata": {
        "id": "yUOOiSi8r-ec"
      }
    },
    {
      "cell_type": "code",
      "source": [
        "temp=float(input(\"Dame la temperatura en grados centígrados: \"))\n",
        "fahr=(1.8*temp)+32\n",
        "kelvin=temp+273.15\n",
        "print(\"El valor en grados Fahrenheit es de: \"+str(fahr))\n",
        "print(\"El valor en grados Kelvin es de: \"+str(kelvin))"
      ],
      "metadata": {
        "colab": {
          "base_uri": "https://localhost:8080/"
        },
        "id": "0QiD_MvFsAIR",
        "outputId": "2b94a6b2-9fa1-49f7-922a-a374972efce2"
      },
      "execution_count": null,
      "outputs": [
        {
          "output_type": "stream",
          "name": "stdout",
          "text": [
            "Dame la temperatura en grados centígrados: 34.2\n",
            "El valor en grados Fahrenheit es de: 93.56\n",
            "El valor en grados Kelvin es de: 307.34999999999997\n"
          ]
        }
      ]
    },
    {
      "cell_type": "markdown",
      "source": [
        "**7.- Programa en Python que lea 4 calificaciones de un alumno, desplegar el promedio del alumno**"
      ],
      "metadata": {
        "id": "X5m8XF0Qs0N9"
      }
    },
    {
      "cell_type": "code",
      "source": [
        "cal1=float(input(\"Dame la primera calificación: \"))\n",
        "cal2=float(input(\"Dame la segunda calificación: \"))\n",
        "cal3=float(input(\"Dame la tercera calificación: \"))\n",
        "cal4=float(input(\"Dame la cuarta calificación: \"))\n",
        "prom=(cal1+cal2+cal3+cal4)/4\n",
        "print(\"El promedio es: \"+str(prom))"
      ],
      "metadata": {
        "colab": {
          "base_uri": "https://localhost:8080/"
        },
        "id": "iHnK3SMZs2BT",
        "outputId": "3a409a73-ab73-41ef-9403-98a30778ac70"
      },
      "execution_count": null,
      "outputs": [
        {
          "output_type": "stream",
          "name": "stdout",
          "text": [
            "Dame la primera calificación: 75\n",
            "Dame la segunda calificación: 67\n",
            "Dame la tercera calificación: 89\n",
            "Dame la cuarta calificación: 62\n",
            "El promedio es: 73.25\n"
          ]
        }
      ]
    }
  ]
}