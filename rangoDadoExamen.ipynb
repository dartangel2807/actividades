{
  "nbformat": 4,
  "nbformat_minor": 0,
  "metadata": {
    "colab": {
      "provenance": [],
      "authorship_tag": "ABX9TyPIIa7UYZdFAayiFLv+UuLp",
      "include_colab_link": true
    },
    "kernelspec": {
      "name": "python3",
      "display_name": "Python 3"
    },
    "language_info": {
      "name": "python"
    }
  },
  "cells": [
    {
      "cell_type": "markdown",
      "metadata": {
        "id": "view-in-github",
        "colab_type": "text"
      },
      "source": [
        "<a href=\"https://colab.research.google.com/github/dartangel2807/actividades/blob/main/rangoDadoExamen.ipynb\" target=\"_parent\"><img src=\"https://colab.research.google.com/assets/colab-badge.svg\" alt=\"Open In Colab\"/></a>"
      ]
    },
    {
      "cell_type": "code",
      "execution_count": 14,
      "metadata": {
        "id": "goUkeH5hGW8J"
      },
      "outputs": [],
      "source": [
        "def numRandom():\n",
        "  try:\n",
        "    import random as rd\n",
        "    rango1 = int(input(\"Dame el numero donde quieres que inicie el rango: \"))\n",
        "    rango2 = int(input(\"Dame el numero donde quieres que termine el rango: \"))\n",
        "    num = rd.randint(rango1,rango2)\n",
        "    return num\n",
        "  except ValueError:\n",
        "    print(\"Solo se admiten numeros.\")"
      ]
    },
    {
      "cell_type": "code",
      "source": [
        "numRandom()"
      ],
      "metadata": {
        "colab": {
          "base_uri": "https://localhost:8080/"
        },
        "id": "W3mGrBx7Gm3k",
        "outputId": "f5dc7098-d8c0-4660-8efa-d2fcbcdfeb64"
      },
      "execution_count": 16,
      "outputs": [
        {
          "name": "stdout",
          "output_type": "stream",
          "text": [
            "Dame el numero donde quieres que inicie el rango: 1\n",
            "Dame el numero donde quieres que termine el rango: 10\n"
          ]
        },
        {
          "output_type": "execute_result",
          "data": {
            "text/plain": [
              "7"
            ]
          },
          "metadata": {},
          "execution_count": 16
        }
      ]
    }
  ]
}