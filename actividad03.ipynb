{
  "nbformat": 4,
  "nbformat_minor": 0,
  "metadata": {
    "colab": {
      "provenance": [],
      "authorship_tag": "ABX9TyO6R7mZPliWUGgU1ww7MvAY",
      "include_colab_link": true
    },
    "kernelspec": {
      "name": "python3",
      "display_name": "Python 3"
    },
    "language_info": {
      "name": "python"
    }
  },
  "cells": [
    {
      "cell_type": "markdown",
      "metadata": {
        "id": "view-in-github",
        "colab_type": "text"
      },
      "source": [
        "<a href=\"https://colab.research.google.com/github/dartangel2807/actividades/blob/main/actividad03.ipynb\" target=\"_parent\"><img src=\"https://colab.research.google.com/assets/colab-badge.svg\" alt=\"Open In Colab\"/></a>"
      ]
    },
    {
      "cell_type": "markdown",
      "source": [
        "\n",
        "\n",
        "1.- Algoritmo que lea 3 calificaciones calcule el promedio del alumno y desplegar:\n"
      ],
      "metadata": {
        "id": "avE3cnn-huLp"
      }
    },
    {
      "cell_type": "code",
      "execution_count": null,
      "metadata": {
        "id": "l_5TZ8pTKORM",
        "colab": {
          "base_uri": "https://localhost:8080/"
        },
        "outputId": "10ba589a-4d30-410b-8d88-631b1fccba52"
      },
      "outputs": [
        {
          "output_type": "stream",
          "name": "stdout",
          "text": [
            "Dame el promedio del alumno: 67\n",
            "Suficiente.\n"
          ]
        }
      ],
      "source": [
        "#El algoritmo de forma optimizada usa if y else\n",
        "prom = int(input(\"Dame el promedio del alumno: \"))\n",
        "if prom < 30:\n",
        "  print (\"Repetir.\")\n",
        "elif prom < 60:\n",
        "  print (\"Extraordinario.\")\n",
        "elif prom < 70:\n",
        "  print (\"Suficiente.\")\n",
        "elif prom < 80:\n",
        "  print (\"Regular.\")\n",
        "elif prom < 90:\n",
        "  print(\"Muy bien.\")\n",
        "elif prom >= 98 and prom <= 100:\n",
        "  print(\"Excelente.\")\n",
        "  #Realizar el algoritmo optimizado"
      ]
    },
    {
      "cell_type": "code",
      "source": [
        "  prom = int(input(\"Dame el promedio del alumno: \"))\n",
        "  if prom < 30:\n",
        "    print(\"Repetir.\")\n",
        "  else:\n",
        "    if prom >=30 and prom < 60:\n",
        "      print(\"Extraordinario.\")\n",
        "    else:\n",
        "      if prom >= 60 and prom < 70:\n",
        "        print(\"Suficiente.\")\n",
        "      else:\n",
        "        if prom >= 70 and prom < 80:\n",
        "          print(\"Regular.\")\n",
        "        else:\n",
        "          if prom >= 80 and prom < 90:\n",
        "            print(\"Bien.\")\n",
        "          else:\n",
        "            if prom >= 90 and prom < 98:\n",
        "              print (\"Muy bien.\")\n",
        "            else:\n",
        "              if prom >=98 and prom <=100:\n",
        "                print(\"Excelente.\")\n",
        "              else:\n",
        "                if prom > 100:\n",
        "                  print(\"Error en promedio.\")"
      ],
      "metadata": {
        "id": "RbOlG6bwkPJu",
        "colab": {
          "base_uri": "https://localhost:8080/"
        },
        "outputId": "2596a255-b4b9-458a-ab9f-da1c51c9c0dc"
      },
      "execution_count": null,
      "outputs": [
        {
          "output_type": "stream",
          "name": "stdout",
          "text": [
            "Dame el promedio del alumno: 67\n",
            "Suficiente.\n"
          ]
        }
      ]
    },
    {
      "cell_type": "markdown",
      "source": [
        "2.- Algoritmo que sirva para calcular el salario semanal de un trabajador donde se obtiene como dato de entrada las horas semanales trabajadas, el salario por hora.\n",
        "\n",
        "El programa deberá calcular el salario normal, salario extra y salario total, considerando lo siguiente:\n",
        "Jornada Normal de 40 horas.\n",
        "El salario normal se considera las horas trabajadas menores o igual a la jornada normal\n",
        "\n",
        "Salario extra se considera las horas trabajadas mayores a la jornada normal y se pagan dobles las\n",
        "primeras 9 y triples a partir de la décima hora extra\n",
        "\n",
        "**Nota: Desplegar todos los datos (Salario x hora, Horas Trabajadas, Salario normal, Salario extra y Salario\n",
        "Total)**"
      ],
      "metadata": {
        "id": "kyYQuv0knpL6"
      }
    },
    {
      "cell_type": "code",
      "source": [
        "hT = int(input(\"Cuantas horas trabajaste? \"))\n",
        "sH = int(input(\"A cuanto pagan la hora? \"))\n",
        "jN = 40\n",
        "sN = jN * sH\n",
        "if hT > 40 and hT <= 49:\n",
        "  sE = (hT - jN)*sH*2\n",
        "if hT > 49:\n",
        "  sE = (9*sH*2)+(hT - 49)*sH*3\n",
        "sT = sN + sE\n",
        "print(\"El salario normal es de: \"+str(sN))\n",
        "print(\"El salario extra es de: \"+str(sE))\n",
        "print(\"El salario total es de: \"+str(sT))"
      ],
      "metadata": {
        "id": "Rk43bU5EoLxy",
        "colab": {
          "base_uri": "https://localhost:8080/"
        },
        "outputId": "25652c31-e7ce-4096-9b0a-dd8d2c5ca586"
      },
      "execution_count": null,
      "outputs": [
        {
          "output_type": "stream",
          "name": "stdout",
          "text": [
            "Cuantas horas trabajaste? 56\n",
            "A cuanto pagan la hora? 10\n",
            "El salario normal es de: 400\n",
            "El salario extra es de: 390\n",
            "El salario total es de: 790\n"
          ]
        }
      ]
    },
    {
      "cell_type": "markdown",
      "source": [
        "3.- Algoritmo que sirva para desplegar el Total de una llamada telefónica donde se pide como datos de entrada los minutos y el tipo de llamada, se cobra de la siguiente manera:\n",
        "\n",
        "1.- Llamada Local $3.00 sin límite de tiempo\n",
        "\n",
        "2.- Llamada Nacional $7.00 por los 3 primeros minutos y $2.00 minuto adicional\n",
        "\n",
        "3.- Llamada Internacional $9.00 por los 2 primeros minutos y $4.00 minuto adicional\n",
        "\n",
        " Desplegar, Subtotal,Iva (16%) y Total."
      ],
      "metadata": {
        "id": "W-mPj2dehlM1"
      }
    },
    {
      "cell_type": "code",
      "source": [
        "min = int(input(\"Cuantos minutos de llamada fueron? \"))\n",
        "tipo = int(input(\"Que tipo de llamada fue? 1. para local, 2. para nacional y 3. para internacional: \"))\n",
        "if tipo == 1:\n",
        "  subtotal = 3\n",
        "  iva = subtotal * 0.16\n",
        "  total = subtotal + iva\n",
        "  print(\"El subtotal es de: $\"+str(subtotal))\n",
        "  print(\"El monto de iva es de: $\"+str(iva))\n",
        "  print(\"El total de la llamada es de: $\"+str(total))\n",
        "elif tipo == 2:\n",
        "  if min <= 3:\n",
        "    subtotal = 7\n",
        "    iva = subtotal * 0.16\n",
        "    total = subtotal + iva\n",
        "    print(\"El subtotal es de: $\"+str(subtotal))\n",
        "    print(\"El monto de iva es de: $\"+str(iva))\n",
        "    print(\"El total de la llamada es de: $\"+str(total))\n",
        "  if min > 3:\n",
        "    mExtra = (min-3)*2\n",
        "    subtotal = 7 + mExtra\n",
        "    iva = subtotal * 0.16\n",
        "    total = subtotal + iva\n",
        "    print(\"El subtotal es de: $\"+str(subtotal))\n",
        "    print(\"El monto de iva es de: $\"+str(iva))\n",
        "    print(\"El total de la llamada es de: $\"+str(total))\n",
        "elif tipo == 3:\n",
        "  if min <= 2:\n",
        "    subtotal = 9\n",
        "    iva = subtotal * 0.16\n",
        "    total = subtotal + iva\n",
        "    print(\"El subtotal es de: $\"+str(subtotal))\n",
        "    print(\"El monto de iva es de: $\"+str(iva))\n",
        "    print(\"El total de la llamada es de: $\"+str(total))\n",
        "  if min > 2:\n",
        "    mExtra = (min-2)*4\n",
        "    subtotal = 9 + mExtra\n",
        "    iva = subtotal * 0.16\n",
        "    total = subtotal + iva\n",
        "    print(\"El subtotal es de: $\"+str(subtotal))\n",
        "    print(\"El monto de iva es de: $\"+str(iva))\n",
        "    print(\"El total de la llamada es de: $\"+str(total))"
      ],
      "metadata": {
        "id": "wQzT_3iYiBDX",
        "colab": {
          "base_uri": "https://localhost:8080/"
        },
        "outputId": "b4d9bc31-8f2b-4a79-8be7-cb84752957aa"
      },
      "execution_count": null,
      "outputs": [
        {
          "output_type": "stream",
          "name": "stdout",
          "text": [
            "Cuantos minutos de llamada fueron? 8\n",
            "Que tipo de llamada fue? 1. para local, 2. para nacional y 3. para internacional: 2\n",
            "El subtotal es de: $17\n",
            "El monto de iva es de: $2.72\n",
            "El total de la llamada es de: $19.72\n"
          ]
        }
      ]
    },
    {
      "cell_type": "markdown",
      "source": [
        "4.- Algoritmo que sirva para calcular el Total a pagar por consumo de agua, donde el dato de entrada son los M3 de agua consumidos, Tomar en cuenta que se cobra escalonada de la Siguiente manera:\n",
        "\n",
        "Rango1: 0 al 4 M3 $50 x facturación sin importar cuánto consumió en este rango\n",
        "\n",
        "Rango2: 5 a 15 M3 $8.00 x M3\n",
        "\n",
        "Rango3: 16 a 50 M3 $10.00 x M3\n",
        "\n",
        "Rango4: 51 M3 en adelante $11.00 x M3\n",
        "\n",
        "Nota: Desplegar SubTotal, Iva(16%), y Total a pagar."
      ],
      "metadata": {
        "id": "Dc_bD-M97RbC"
      }
    },
    {
      "cell_type": "code",
      "source": [
        "m3 = int(input(\"Cuantos metros cubicos de agua consumiste? \"))\n",
        "if m3 > 0 and m3 <= 4:\n",
        "  subtotal1 = 50\n",
        "  iva = subtotal1 * 0.16\n",
        "  total = subtotal1 + iva\n",
        "  print(\"El subtotal sera de: $\"+str(subtotal1))\n",
        "  print(\"El aumento por iva sera de: $\"+str(iva))\n",
        "  print(\"El total por consumo es de: $\"+str(total))\n",
        "if m3 > 4 and m3 <= 15:\n",
        "  subtotal2 = (m3 - 4)*8+50\n",
        "  iva = subtotal2 * 0.16\n",
        "  total = subtotal2 + iva\n",
        "  print(\"El subtotal sera de: $\"+str(subtotal2))\n",
        "  print(\"El aumento por iva sera de: $\"+str(iva))\n",
        "  print(\"El total por consumo es de: $\"+str(total))\n",
        "if m3 > 15 and m3 <= 50:\n",
        "  subtotal3 = (m3-15)*10+106\n",
        "  iva = subtotal3 * 0.16\n",
        "  total = subtotal3 + iva\n",
        "  print(\"El subtotal sera de: $\"+str(subtotal3))\n",
        "  print(\"El aumento por iva sera de: $\"+str(iva))\n",
        "  print(\"El total por consumo es de: $\"+str(total))\n",
        "if m3 > 50:\n",
        "  subtotal4 = (m3 - 50)*11+456\n",
        "  iva = subtotal4 * 0.16\n",
        "  total = subtotal4 + iva\n",
        "  print(\"El subtotal sera de: $\"+str(subtotal4))\n",
        "  print(\"El aumento por iva sera de: $\"+str(iva))\n",
        "  print(\"El total por consumo es de: $\"+str(total))"
      ],
      "metadata": {
        "id": "lAnNJs8m7uuh",
        "colab": {
          "base_uri": "https://localhost:8080/"
        },
        "outputId": "7c54df17-3938-4be9-e773-781387af2a63"
      },
      "execution_count": null,
      "outputs": [
        {
          "output_type": "stream",
          "name": "stdout",
          "text": [
            "Cuantos metros cubicos de agua consumiste? 16\n",
            "El subtotal sera de: $116\n",
            "El aumento por iva sera de: $18.56\n",
            "El total por consumo es de: $134.56\n"
          ]
        }
      ]
    },
    {
      "cell_type": "markdown",
      "source": [
        "5- En la materia de Metodología de la programación se aplican 5 exámenes, calcular el promedio final de la materia donde la calificación menor de los exámenes se anula y el promedio se calcula en base a 4 exámenes.\n",
        "\n",
        "Desplegar el promedio final."
      ],
      "metadata": {
        "id": "bPOBB1otny0Y"
      }
    },
    {
      "cell_type": "code",
      "source": [
        "cal1 = float(input(\"Dame la calificacion del primer examen: \"))\n",
        "cal2 = float(input(\"Dame la calificación del segundo examen: \"))\n",
        "cal3 = float(input(\"Dame la calificación del tercer examen: \"))\n",
        "cal4 = float(input(\"Dame la calificación del cuarto examen: \"))\n",
        "cal5 = float(input(\"Dame la calificación del quinto examen: \"))\n",
        "\n",
        "\n",
        "cals = [cal1, cal2, cal3, cal4, cal5]\n",
        "\n",
        "calm = min(cals)\n",
        "\n",
        "promf = ((cal1 + cal2 + cal3 + cal4 +cal5) - calm) / 4\n",
        "\n",
        "print(\"El promedio final de la materia es:\", promf)"
      ],
      "metadata": {
        "id": "OebqcsbswGIA"
      },
      "execution_count": null,
      "outputs": []
    },
    {
      "cell_type": "markdown",
      "source": [
        "6.- Algoritmo que sirva para el juego del CHINCHAMPU (Piedra, Papel, Tijera) para 1 jugador y la computadora, (usar condición anidada)"
      ],
      "metadata": {
        "id": "ter0vnw4xm0L"
      }
    },
    {
      "cell_type": "code",
      "source": [
        "import random\n",
        "print(\"Bienvenido al juego de piedra papel o tijeras\")\n",
        "opcion=int(input(\"Por favor elige una de estas opciones: 1. Piedra, 2. Papel y 3. Tijeras: \"))\n",
        "opcion_pc = random.randint(1,3)\n",
        "###################################################################\n",
        "if opcion == 1:\n",
        "  if opcion_pc == 1:\n",
        "    print(\"Has elegido piedra.\")\n",
        "    print(\"La PC ha elegido piedra.\")\n",
        "    print(\"EMPATE.\")\n",
        "if opcion == 1:\n",
        "  if opcion_pc == 2:\n",
        "    print(\"Has elegido piedra.\")\n",
        "    print(\"La PC ha elegido papel\")\n",
        "    print(\"Has perdido.\")\n",
        "if opcion == 1:\n",
        "  if opcion_pc == 3:\n",
        "    print(\"Has elegido piedra.\")\n",
        "    print(\"La PC ha elegido tijeras.\")\n",
        "    print(\"Has ganado.\")\n",
        "##################################################################\n",
        "if opcion == 2:\n",
        "  if opcion_pc == 1:\n",
        "    print(\"Has elegido papel.\")\n",
        "    print(\"La PC ha elegido piedra.\")\n",
        "    print(\"Has ganado.\")\n",
        "if opcion == 2:\n",
        "  if opcion_pc == 2:\n",
        "    print(\"Has elegido papel.\")\n",
        "    print(\"La PC ha elegido papel\")\n",
        "    print(\"EMPATE.\")\n",
        "if opcion == 2:\n",
        "  if opcion_pc == 3:\n",
        "    print(\"Has elegido papel.\")\n",
        "    print(\"La PC ha elegido tijeras.\")\n",
        "    print(\"Has perdido.\")\n",
        "##################################################################\n",
        "if opcion == 3:\n",
        "  if opcion_pc == 1:\n",
        "    print(\"Has elegido tijeras.\")\n",
        "    print(\"La PC ha elegido piedra.\")\n",
        "    print(\"Has perdido.\")\n",
        "if opcion == 3:\n",
        "  if opcion_pc == 2:\n",
        "    print(\"Has elegido tijeras.\")\n",
        "    print(\"La PC ha elegido papel\")\n",
        "    print(\"Has ganado.\")\n",
        "if opcion == 3:\n",
        "  if opcion_pc == 3:\n",
        "    print(\"Has elegido tijeras.\")\n",
        "    print(\"La PC ha elegido tijeras.\")\n",
        "    print(\"EMPATE.\")"
      ],
      "metadata": {
        "id": "7os-8NQs3XtA",
        "colab": {
          "base_uri": "https://localhost:8080/"
        },
        "outputId": "b7a90392-cd5e-4cc6-be3d-75ff743f244b"
      },
      "execution_count": null,
      "outputs": [
        {
          "output_type": "stream",
          "name": "stdout",
          "text": [
            "Bienvenido al juego de piedra papel o tijeras\n",
            "Por favor elige una de estas opciones: 1. Piedra, 2. Papel y 3. Tijeras: 2\n",
            "Has elegido papel.\n",
            "La PC ha elegido piedra.\n",
            "Has ganado.\n"
          ]
        }
      ]
    },
    {
      "cell_type": "markdown",
      "source": [
        "7.- Algoritmo que sirva para el juego del CHINCHAMPU (Piedra, Papel, Tijera) para 1 jugador y la computadora, (usar selección múltiple)"
      ],
      "metadata": {
        "id": "vFFBbxVyRZmK"
      }
    },
    {
      "cell_type": "code",
      "source": [
        "import random\n",
        "print(\"Bienvenido al juego de piedra papel o tijeras\")\n",
        "opcion=int(input(\"Por favor elige una de estas opciones: 1. Piedra, 2. Papel y 3. Tijeras: \"))\n",
        "opcion_pc = random.randint(1,3)\n",
        "##################################################################\n",
        "if opcion == 1:\n",
        "  if opcion_pc == 1:\n",
        "    print(\"Has elegido piedra.\")\n",
        "    print(\"La PC ha elegido piedra.\")\n",
        "    print(\"EMPATE.\")\n",
        "  elif opcion_pc == 2:\n",
        "    print(\"La PC ha elegido papel.\")\n",
        "    print(\"Has perdido.\")\n",
        "  elif opcion_pc == 3:\n",
        "    print(\"La PC ha elegido tijeras.\")\n",
        "    print(\"Has ganado.\")\n",
        "##################################################################\n",
        "if opcion == 2:\n",
        "  if opcion_pc == 1:\n",
        "    print(\"Has elegido papel.\")\n",
        "    print(\"La PC ha elegido piedra.\")\n",
        "    print(\"Has ganado.\")\n",
        "  elif opcion_pc == 2:\n",
        "    print(\"La PC ha elegido papel.\")\n",
        "    print(\"EMPATE.\")\n",
        "  elif opcion_pc == 3:\n",
        "    print(\"La PC ha elegido tijeras.\")\n",
        "    print(\"Has perdido.\")\n",
        "##################################################################\n",
        "if opcion == 3:\n",
        "  if opcion_pc == 1:\n",
        "    print(\"Has elegido tijeras.\")\n",
        "    print(\"La PC ha elegido piedra.\")\n",
        "    print(\"Has perdido.\")\n",
        "  elif opcion_pc == 2:\n",
        "    print(\"La PC ha elegido papel.\")\n",
        "    print(\"Has ganado.\")\n",
        "  elif opcion_pc == 3:\n",
        "    print(\"La PC ha elegido tijeras.\")\n",
        "    print(\"EMPATE.\")"
      ],
      "metadata": {
        "id": "StEYfG03RbZd",
        "colab": {
          "base_uri": "https://localhost:8080/"
        },
        "outputId": "233bc505-b876-4311-f1e7-9713d89e5cde"
      },
      "execution_count": null,
      "outputs": [
        {
          "output_type": "stream",
          "name": "stdout",
          "text": [
            "Bienvenido al juego de piedra papel o tijeras\n",
            "Por favor elige una de estas opciones: 1. Piedra, 2. Papel y 3. Tijeras: 3\n",
            "Has elegido tijeras.\n",
            "La PC ha elegido piedra.\n",
            "Has perdido.\n"
          ]
        }
      ]
    },
    {
      "cell_type": "markdown",
      "source": [
        "8.- Una tienda de electrónica ofrece descuentos a sus clientes, dependiendo del tipo de producto que compren. Si el cliente compra una computadora, tiene un descuento del 5% en el precio de la computadora y un 10% de descuento en una impresora si la compra junto con la computadora. Si el cliente compra una televisión, tiene un descuento del 7% en el precio de la televisión y un 15% de descuento en una barra de sonido si la compra junto con la televisión. Si el cliente compra una consola de videojuegos, tiene un descuento del 10% en el precio de la consola y un 20% de descuento en un juego si lo compra junto con la consola. Escribe un programa que calcule el precio a pagar por un cliente, tomando en cuenta los descuentos correspondientes."
      ],
      "metadata": {
        "id": "uvG3Uj59Xmrd"
      }
    },
    {
      "cell_type": "code",
      "source": [
        "def calcular_precio(producto, precio_base, accesorio=None):\n",
        "    descuento_producto = 0\n",
        "    descuento_accesorio = 0\n",
        "    if producto == 1:\n",
        "        descuento_producto = 0.05\n",
        "        if accesorio == 4:\n",
        "            descuento_accesorio = 0.10\n",
        "    elif producto == 2:\n",
        "        descuento_producto = 0.07\n",
        "        if accesorio == 5:\n",
        "            descuento_accesorio = 0.15\n",
        "    elif producto == 3:\n",
        "        descuento_producto = 0.10\n",
        "        if accesorio == 6:\n",
        "            descuento_accesorio = 0.20\n",
        "    precio_total = precio_base * (1 - descuento_producto)\n",
        "    if accesorio:\n",
        "        precio_total *= (1 - descuento_accesorio)\n",
        "    return precio_total\n",
        "\n",
        "producto = int(input(\"Que producto quiere comprar? 1. Computadora, 2. Television o 3. Consola de videojuegos: \"))\n",
        "precio_base = float(input(\"Que precio tiene este producto?: $\"))\n",
        "accesorio = int(input(\"Ingrese el accesorio: 4. Impresora, 5. Barra de sonido y 6. Juego: \"))\n",
        "precio_final = calcular_precio(producto, precio_base, accesorio)\n",
        "print(\"El precio total a pagar sera de: $\"+str(precio_final))"
      ],
      "metadata": {
        "id": "Xp5QZmIyXpLA",
        "colab": {
          "base_uri": "https://localhost:8080/"
        },
        "outputId": "613b4e7e-4543-4bf0-9631-d87cab9c7f5b"
      },
      "execution_count": null,
      "outputs": [
        {
          "output_type": "stream",
          "name": "stdout",
          "text": [
            "Que producto quiere comprar? 1. Computadora, 2. Television o 3. Consola de videojuegos: 1\n",
            "Que precio tiene este producto?: $200\n",
            "Ingrese el accesorio: 4. Impresora, 5. Barra de sonido y 6. Juego: 4\n",
            "El precio total a pagar sera de: $171.0\n"
          ]
        }
      ]
    },
    {
      "cell_type": "markdown",
      "source": [
        "9.- En una tienda de ropa, los precios de los productos cambian dependiendo de la temporada. Durante la temporada de verano, todos los productos tienen un descuento del 20%. Durante la temporada de invierno, los productos con etiqueta roja tienen un descuento del 30% y los productos con etiqueta verde tienen un descuento del 15%. Durante la temporada de primavera y otoño, los productos con etiqueta amarilla tienen un descuento del 10%. Escribe un programa que calcule el precio a pagar por un cliente, tomando en cuenta los descuentos correspondientes."
      ],
      "metadata": {
        "id": "oWDMDCkKXTdO"
      }
    },
    {
      "cell_type": "code",
      "source": [
        "def calcular_precio(temporada, etiqueta, precio_base):\n",
        "    descuento = 0\n",
        "    if temporada == 1:\n",
        "        descuento = 0.20\n",
        "    elif temporada == 2:\n",
        "        if etiqueta == 5:\n",
        "            descuento = 0.30\n",
        "        elif etiqueta == 6:\n",
        "            descuento = 0.15\n",
        "    elif temporada in [3, 4]:\n",
        "        if etiqueta == 7:\n",
        "            descuento = 0.10\n",
        "    precio_total = precio_base * (1 - descuento)\n",
        "    return precio_total\n",
        "\n",
        "temporada = int(input(\"Que temporada es?: 1. Verano, 2. Invierno, 3. Primavera y 4. Otoño: \"))\n",
        "etiqueta = int(input(\"De que color es la etiqueta?: 5. Roja, 6. Verde y 7. Amarilla: \"))\n",
        "precio_base = float(input(\"Cual es el precio base del producto?: $\"))\n",
        "precio_final = calcular_precio(temporada, etiqueta, precio_base)\n",
        "print(\"El precio final a pagar es de: $\"+str(precio_final))"
      ],
      "metadata": {
        "id": "cXP8LpZPXU5U",
        "colab": {
          "base_uri": "https://localhost:8080/"
        },
        "outputId": "f481c9c1-a781-4f79-d6b9-13b9eb8cb3b4"
      },
      "execution_count": null,
      "outputs": [
        {
          "output_type": "stream",
          "name": "stdout",
          "text": [
            "Que temporada es?: 1. Verano, 2. Invierno, 3. Primavera y 4. Otoño: 4\n",
            "De que color es la etiqueta?: 5. Roja, 6. Verde y 7. Amarilla: 7\n",
            "Cual es el precio base del producto?: $200\n",
            "El precio final a pagar es de: $180.0\n"
          ]
        }
      ]
    },
    {
      "cell_type": "markdown",
      "source": [
        "10.- Un restaurante ofrece descuentos a sus clientes, dependiendo del día de la semana y del tipo de menú que pidan. Los lunes, los clientes que pidan el menú del día tienen un descuento del 10%. Los martes, los clientes que pidan el menú infantil tienen un descuento del 20%. Los miércoles, los clientes que pidan el menú vegetariano tienen un descuento del 15%. Los jueves, los clientes que pidan el menú del chef tienen un descuento del 5%. Los viernes, los clientes que pidan el menú del día tienen un descuento del 5%. Los sábados y domingos no hay descuentos. Escribe un programa que calcule el precio a pagar por un cliente, tomando en cuenta los descuentos correspondientes."
      ],
      "metadata": {
        "id": "DG0_6398bCtb"
      }
    },
    {
      "cell_type": "code",
      "source": [
        "def calcular_precio(dia_semana, tipo_menu, precio_base):\n",
        "    descuento = 0\n",
        "    if dia_semana == 1 and tipo_menu == 8:\n",
        "        descuento = 0.10\n",
        "    elif dia_semana == 2 and tipo_menu == 9:\n",
        "        descuento = 0.20\n",
        "    elif dia_semana == 3 and tipo_menu == 10:\n",
        "        descuento = 0.15\n",
        "    elif dia_semana == 4 and tipo_menu == 11:\n",
        "        descuento = 0.05\n",
        "    elif dia_semana == 5 and tipo_menu == 8:\n",
        "        descuento = 0.05\n",
        "    precio_total = precio_base * (1 - descuento)\n",
        "    return precio_total\n",
        "\n",
        "dia_semana = int(input(\"Que dia es?: 1. Lunes, 2. Martes, 3. Miercoles, 4. Jueves, 5. Viernes, 6. Sabado o 7. Domingo: \"))\n",
        "tipo_menu = int(input(\"Que menu desea ordenar?: 8. Menú del día, 9. Menú infantil, 10. Menú vegetariano u 11. Menú del chef: \"))\n",
        "precio_base = float(input(\"Cual es el precio base del menú? \"))\n",
        "precio_final = calcular_precio(dia_semana, tipo_menu, precio_base)\n",
        "print(\"El precio total a pagar sera de: $\"+str(precio_final))"
      ],
      "metadata": {
        "id": "3bxYwJdubJjh",
        "colab": {
          "base_uri": "https://localhost:8080/"
        },
        "outputId": "d43f9d98-0b3e-46cb-cb0d-d81b32be46e5"
      },
      "execution_count": null,
      "outputs": [
        {
          "output_type": "stream",
          "name": "stdout",
          "text": [
            "Que dia es?: 1. Lunes, 2. Martes, 3. Miercoles, 4. Jueves, 5. Viernes, 6. Sabado o 7. Domingo: 3\n",
            "Que menu desea ordenar?: 8. Menú del día, 9. Menú infantil, 10. Menú vegetariano u 11. Menú del chef: 10\n",
            "Cual es el precio base del menú? 200\n",
            "El precio total a pagar sera de: $170.0\n"
          ]
        }
      ]
    }
  ]
}